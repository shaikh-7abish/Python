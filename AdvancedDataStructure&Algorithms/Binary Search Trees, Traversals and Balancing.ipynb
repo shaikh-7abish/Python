{
 "cells": [
  {
   "cell_type": "markdown",
   "id": "21cff5bf",
   "metadata": {},
   "source": [
    "# Binary Search Trees, Traversals and Balancing in Python\n",
    "\n",
    "### Part 2 of \"Data Structures and Algorithms in Python\"\n",
    "\n",
    "![](https://i.imgur.com/lVqP63n.png)\n",
    "\n",
    "\n",
    "\n",
    "\n",
    "\n",
    "[Data Structures and Algorithms in Python](https://jovian.ai/learn/data-structures-and-algorithms-in-python) is a beginner-friendly introduction to common data structures (linked lists, stacks, queues, graphs) and algorithms (search, sorting, recursion, dynamic programming) in Python, designed to help you prepare for coding interviews and assessments.\n",
    "\n",
    "\n",
    "Earn a verified certificate of accomplishment for this course by signing up here: http://pythondsa.com.\n",
    "\n",
    "Ask questions, get help & participate in discussions on the community forum: https://jovian.ai/forum/c/data-structures-and-algorithms-in-python/78"
   ]
  },
  {
   "cell_type": "markdown",
   "id": "9b31266d",
   "metadata": {},
   "source": [
    "## Problem \n",
    "\n",
    "\n",
    "In this notebook, we'll focus on solving the following problem:\n",
    "\n",
    "> **QUESTION 1**: As a senior backend engineer at Jovian, you are tasked with developing a fast in-memory data structure to manage profile information (username, name and email) for 100 million users. It should allow the following operations to be performed efficiently:\n",
    "> \n",
    "> 1. **Insert** the profile information for a new user.\n",
    "> 2. **Find** the profile information of a user, given their username\n",
    "> 3. **Update** the profile information of a user, given their usrname\n",
    "> 5. **List** all the users of the platform, sorted by username\n",
    ">\n",
    "> You can assume that usernames are unique. \n",
    "\n",
    "Along the way, we will also solve several other questions related to binary trees and binary search trees that are often asked in coding interviews and assessments. "
   ]
  },
  {
   "cell_type": "markdown",
   "id": "b040e4e7",
   "metadata": {},
   "source": [
    "## The Method\n",
    "\n",
    "\n",
    "Here's a systematic strategy we'll apply for solving problems:\n",
    "\n",
    "1. State the problem clearly. Identify the input & output formats.\n",
    "2. Come up with some example inputs & outputs. Try to cover all edge cases.\n",
    "3. Come up with a correct solution for the problem. State it in plain English.\n",
    "4. Implement the solution and test it using example inputs. Fix bugs, if any.\n",
    "5. Analyze the algorithm's complexity and identify inefficiencies, if any.\n",
    "6. Apply the right technique to overcome the inefficiency. Repeat steps 3 to 6.\n"
   ]
  },
  {
   "cell_type": "markdown",
   "id": "f352258e",
   "metadata": {},
   "source": [
    "## 1. State the problem clearly. Identify the input & output formats.\n",
    "\n",
    "#### Problem\n",
    "\n",
    "> We need to create a data structure which can store 100 million records and perform insertion, search, update and list operations efficiently.\n",
    "\n",
    "#### Input\n",
    "\n",
    "The key inputs to our data structure are user profiles, which contain the username, name and email of a user. \n",
    "\n",
    "A Python _class_ would be a great way to represent the information for a user. A class is a blueprint for creating _objects_. Everything in Python is an _object_ belonging to some _class_. Here's the simples possible class in Python, with nothing in it:"
   ]
  },
  {
   "cell_type": "markdown",
   "id": "8b9d32a8",
   "metadata": {},
   "source": [
    "The object `user1` does not contain any useful information. Let's add a _constructor method_ to the class to store some _attributes_ or _properties_."
   ]
  },
  {
   "cell_type": "code",
   "execution_count": 1,
   "id": "d64c1c13",
   "metadata": {},
   "outputs": [],
   "source": [
    "class User:\n",
    "    def __init__(self, username, name, email):\n",
    "        self.username = username\n",
    "        self.name = name\n",
    "        self.email = email\n",
    "        print('User Created')"
   ]
  },
  {
   "cell_type": "code",
   "execution_count": 2,
   "id": "3d7862bb",
   "metadata": {},
   "outputs": [
    {
     "name": "stdout",
     "output_type": "stream",
     "text": [
      "User Created\n"
     ]
    }
   ],
   "source": [
    "user2 = User('john', 'John Doe', 'johndoe@gmail.com')"
   ]
  },
  {
   "cell_type": "code",
   "execution_count": 3,
   "id": "49adddbf",
   "metadata": {},
   "outputs": [
    {
     "data": {
      "text/plain": [
       "('john', 'John Doe', 'johndoe@gmail.com')"
      ]
     },
     "execution_count": 3,
     "metadata": {},
     "output_type": "execute_result"
    }
   ],
   "source": [
    "user2.username, user2.name, user2.email"
   ]
  },
  {
   "cell_type": "code",
   "execution_count": 4,
   "id": "42c2b4c9",
   "metadata": {},
   "outputs": [],
   "source": [
    "class User:\n",
    "    def __init__(self, username, name, email):\n",
    "        self.username = username\n",
    "        self.name = name\n",
    "        self.email = email\n",
    "        \n",
    "    def __repr__(self):\n",
    "        return \"User(username='{}', name='{}', email='{}')\".format(self.username, self.name, self.email)\n",
    "    \n",
    "    def __str__(self):\n",
    "        return self.__repr__()"
   ]
  },
  {
   "cell_type": "code",
   "execution_count": 5,
   "id": "4b6ad103",
   "metadata": {},
   "outputs": [],
   "source": [
    "user3 = User('jane', 'Jane Doe', 'jane@doe.com')"
   ]
  },
  {
   "cell_type": "code",
   "execution_count": 6,
   "id": "24fbd7e1",
   "metadata": {},
   "outputs": [
    {
     "data": {
      "text/plain": [
       "User(username='jane', name='Jane Doe', email='jane@doe.com')"
      ]
     },
     "execution_count": 6,
     "metadata": {},
     "output_type": "execute_result"
    }
   ],
   "source": [
    "user3"
   ]
  },
  {
   "cell_type": "markdown",
   "id": "c1c70283",
   "metadata": {},
   "source": [
    "#### Output\n",
    "\n",
    "We can also express our desired data structure as a Python class `UserDatabase` with four methods: `insert`, `find`, `update` and `list_all`. "
   ]
  },
  {
   "cell_type": "code",
   "execution_count": 7,
   "id": "9ac17a72",
   "metadata": {},
   "outputs": [],
   "source": [
    "class UserDatabase:\n",
    "    def insert(self, user):\n",
    "        pass\n",
    "    \n",
    "    def find(self, username):\n",
    "        pass\n",
    "    \n",
    "    def update(self, user):\n",
    "        pass\n",
    "        \n",
    "    def list_all(self):\n",
    "        pass"
   ]
  },
  {
   "cell_type": "markdown",
   "id": "97c6c840",
   "metadata": {},
   "source": [
    "## 2. Come up with some example inputs & outputs. \n",
    "\n",
    "Let's create some sample user profiles that we can use to test our functions once we implement them."
   ]
  },
  {
   "cell_type": "code",
   "execution_count": 8,
   "id": "69cdfd03",
   "metadata": {},
   "outputs": [],
   "source": [
    "aakash = User('aakash', 'Aakash Rai', 'aakash@example.com')\n",
    "biraj = User('biraj', 'Biraj Das', 'biraj@example.com')\n",
    "hemanth = User('hemanth', 'Hemanth Jain', 'hemanth@example.com')\n",
    "jadhesh = User('jadhesh', 'Jadhesh Verma', 'jadhesh@example.com')\n",
    "siddhant = User('siddhant', 'Siddhant Sinha', 'siddhant@example.com')\n",
    "sonaksh = User('sonaksh', 'Sonaksh Kumar', 'sonaksh@example.com')\n",
    "vishal = User('vishal', 'Vishal Goel', 'vishal@example.com')\n",
    "tabish = User('tabish', 'Tabish Shaikh', 'tabishshaikh764@gmail.com')"
   ]
  },
  {
   "cell_type": "code",
   "execution_count": 9,
   "id": "c1e85f0e",
   "metadata": {},
   "outputs": [],
   "source": [
    "users = [aakash, biraj, hemanth, jadhesh, siddhant, sonaksh, vishal,tabish]"
   ]
  },
  {
   "cell_type": "markdown",
   "id": "0abb4a17",
   "metadata": {},
   "source": [
    "Since we haven't implemented our data structure yet, it's not possible to list sample outputs. However you can try to come up with different scenarios to test future implementations\n",
    "\n",
    "Exercise: List some scenarios for testing the class methods insert, find, update and list_all."
   ]
  },
  {
   "cell_type": "markdown",
   "id": "c2357737",
   "metadata": {},
   "source": [
    "## 3. Come up with a correct solution. State it in plain English.\n",
    "\n",
    "Here's a simple and easy solution to the problem: we store the `User` objects in a list sorted by usernames. \n",
    "\n",
    "The various functions can be implemented as follows:\n",
    "\n",
    "1. **Insert**: Loop through the list and add the new user at a position that keeps the list sorted.\n",
    "2. **Find**: Loop through the list and find the user object with the username matching the query.\n",
    "3. **Update**: Loop through the list, find the user object matching the query and update the details\n",
    "4. **List**: Return the list of user objects.\n",
    "\n",
    "We can use the fact usernames, which are are strings can be compared using the `<`, `>` and `==` operators in Python."
   ]
  },
  {
   "cell_type": "markdown",
   "id": "e7e8d8c7",
   "metadata": {},
   "source": [
    "## 4. Implement the solution and test it using example inputs.\n",
    "\n",
    "The code for implementing the above solution is also fairly straightfoward."
   ]
  },
  {
   "cell_type": "code",
   "execution_count": 10,
   "id": "9a177557",
   "metadata": {},
   "outputs": [],
   "source": [
    "class UserDatabase:\n",
    "    def __init__(self):\n",
    "        self.users = []\n",
    "    \n",
    "    def insert(self, user):\n",
    "        i = 0\n",
    "        while i < len(self.users):\n",
    "            if self.users[i].username > user.username:\n",
    "                break\n",
    "            i += 1\n",
    "        self.users.insert(i, user)\n",
    "    \n",
    "    def find(self, username):\n",
    "        for user in users:\n",
    "            if user.username == username:\n",
    "                return user\n",
    "    \n",
    "    def update(self, user):\n",
    "        target = self.find(user.username)\n",
    "        target.name, target.email = user.name, user.email\n",
    "        \n",
    "    def list_all(self):\n",
    "        return self.users"
   ]
  },
  {
   "cell_type": "markdown",
   "id": "22e7e595",
   "metadata": {},
   "source": [
    "We can create a new database of users by _instantiating_ and object of the `UserDatabase` class."
   ]
  },
  {
   "cell_type": "code",
   "execution_count": 11,
   "id": "4a1d0145",
   "metadata": {},
   "outputs": [],
   "source": [
    "database = UserDatabase()"
   ]
  },
  {
   "cell_type": "markdown",
   "id": "55e9c28d",
   "metadata": {},
   "source": [
    "Let's insert some entires into the object."
   ]
  },
  {
   "cell_type": "code",
   "execution_count": 12,
   "id": "06f8d6db",
   "metadata": {},
   "outputs": [],
   "source": [
    "database.insert(hemanth)\n",
    "database.insert(aakash)\n",
    "database.insert(siddhant)"
   ]
  },
  {
   "cell_type": "code",
   "execution_count": 13,
   "id": "c4feccb0",
   "metadata": {},
   "outputs": [
    {
     "data": {
      "text/plain": [
       "User(username='siddhant', name='Siddhant Sinha', email='siddhant@example.com')"
      ]
     },
     "execution_count": 13,
     "metadata": {},
     "output_type": "execute_result"
    }
   ],
   "source": [
    "user = database.find('siddhant')\n",
    "user"
   ]
  },
  {
   "cell_type": "code",
   "execution_count": 14,
   "id": "2595c69e",
   "metadata": {},
   "outputs": [
    {
     "data": {
      "text/plain": [
       "User(username='siddhant', name='Siddhant U', email='siddhant@examp.com')"
      ]
     },
     "execution_count": 14,
     "metadata": {},
     "output_type": "execute_result"
    }
   ],
   "source": [
    "database.update(User(username='siddhant', name='Siddhant U', email='siddhant@examp.com'))\n",
    "user"
   ]
  },
  {
   "cell_type": "code",
   "execution_count": 15,
   "id": "4c3be6cf",
   "metadata": {},
   "outputs": [
    {
     "data": {
      "text/plain": [
       "[User(username='aakash', name='Aakash Rai', email='aakash@example.com'),\n",
       " User(username='hemanth', name='Hemanth Jain', email='hemanth@example.com'),\n",
       " User(username='siddhant', name='Siddhant U', email='siddhant@examp.com')]"
      ]
     },
     "execution_count": 15,
     "metadata": {},
     "output_type": "execute_result"
    }
   ],
   "source": [
    "database.list_all()"
   ]
  },
  {
   "cell_type": "code",
   "execution_count": 16,
   "id": "e983ec16",
   "metadata": {},
   "outputs": [],
   "source": [
    "database.insert(biraj)"
   ]
  },
  {
   "cell_type": "code",
   "execution_count": 17,
   "id": "6b2f34f4",
   "metadata": {},
   "outputs": [
    {
     "data": {
      "text/plain": [
       "[User(username='aakash', name='Aakash Rai', email='aakash@example.com'),\n",
       " User(username='biraj', name='Biraj Das', email='biraj@example.com'),\n",
       " User(username='hemanth', name='Hemanth Jain', email='hemanth@example.com'),\n",
       " User(username='siddhant', name='Siddhant U', email='siddhant@examp.com')]"
      ]
     },
     "execution_count": 17,
     "metadata": {},
     "output_type": "execute_result"
    }
   ],
   "source": [
    "database.list_all()"
   ]
  },
  {
   "cell_type": "markdown",
   "id": "79edf5f8",
   "metadata": {},
   "source": [
    "## 5. Analyze the algorithm's complexity and identify inefficiencies\n",
    "\n",
    "The operations `insert`, `find`, `update` involves iterating over a list of users, in the worst case, they may take up to `N` iterations to return a result, where `N` is the total number of users. `list_all` however, simply returns the existing internal list of users. \n",
    "\n",
    "Thus, the time complexities of the various operations are:\n",
    "\n",
    "1. Insert: **O(N)**\n",
    "2. Find: **O(N)**\n",
    "3. Update: **O(N)**\n",
    "4. List: **O(1)**\n",
    "\n",
    "**Exercise:** Verify that the space complexity of each operation is **O(1)**.\n",
    "\n",
    "Is this good enough? To get a sense how long each function might take if there are 100 million users on the platform, we can simply run an `for` or `while` loop on 10 million numbers."
   ]
  },
  {
   "cell_type": "code",
   "execution_count": 18,
   "id": "7a7750bf",
   "metadata": {},
   "outputs": [],
   "source": [
    "# %%time\n",
    "# for i in range(100000000):\n",
    "#     j = i*i"
   ]
  },
  {
   "cell_type": "markdown",
   "id": "031a9f93",
   "metadata": {},
   "source": [
    "It takes almost 10 seconds to execute all the iterations in the above cell. \n",
    "\n",
    "* A 10-second delay for fetching user profiles will lead to a suboptimal users experience and may cause many users to stop using the platform altogether. \n",
    "* The 10-second processing time for each profile request will also significantly limit the number of users that can access the platform at a time or increase the cloud infrastructure costs for the company by millions of dollars.\n",
    "\n",
    "As a senior backend engineer, you must come up with a more efficient data structure! Choosing the right data structure for the requirements at hand is an important skill. It's apparent that a sorted list of users might not be the best data structure to organize profile information for millions of users. "
   ]
  },
  {
   "cell_type": "markdown",
   "id": "4fe21fd2",
   "metadata": {},
   "source": [
    "## 6. Apply the right technique to overcome the inefficiency\n",
    "\n",
    "We can limit the number of iterations required for common operations like find, insert and update by organizing our data in the following structure, called a **binary tree**:\n",
    "\n",
    "<img src=\"https://i.imgur.com/lVqP63n.png\" width=\"520\">\n",
    "\n",
    "\n",
    "\n",
    "It's called a tree because it vaguely like an inverted tree trunk with branches. \n",
    "* The word \"binary\" indicates that each \"node\" in the tree can have at most 2 children (left or right). \n",
    "* Nodes can have 0, 1 or 2 children. Nodes that do not have any children are sometimes also called \"leaves\".\n",
    "* The single node at the top is called the \"root\" node, and it typically where operations like search, insertion etc. begin.\n",
    "\n",
    "<img src=\"https://i.imgur.com/TZHMKJr.png\" width=\"400\">"
   ]
  },
  {
   "cell_type": "markdown",
   "id": "7380b493",
   "metadata": {},
   "source": [
    "## Balanced Binary Search Trees\n",
    "\n",
    "<img src=\"https://i.imgur.com/Mqef5b3.png\" width=\"520\">\n",
    "\n",
    "For our use case, we require the binary tree to have some additional properties:\n",
    "\n",
    "1. **Keys and Values**: Each node of the tree stores a key (a username) and a value (a `User` object). Only keys are shown in the picture above for brevity. A binary tree where nodes have both a key and a value is often referred to as a **map** or **treemap** (because it maps keys to values).\n",
    "2. **Binary Search Tree**: The *left subtree* of any node only contains nodes with keys that are lexicographically smaller than the node's key, and the *right subtree* of any node only contains nodes with keys that lexicographically larger than the node's key. A tree that satisfies this property is called a **binary search trees**, and it's easy to locate a specific key by traversing a single path down from the root note.\n",
    "3. **Balanced Tree**: The tree is **balanced** i.e. it does not skew too heavily to one side or the other. The left and right subtrees of any node shouldn't differ in height/depth by more than 1 level.\n",
    "\n",
    "\n",
    "### Height of a Binary Tree\n",
    "\n",
    "The number of levels in a tree is called its height. As you can tell from the picture above, each level of a tree contains twice as many nodes as the previous level. \n",
    "\n",
    "For a tree of height `k`, here's a list of the number of nodes at each level:\n",
    "\n",
    "Level 0: `1`\n",
    "\n",
    "Level 1: `2`\n",
    "\n",
    "Level 2: `4` i.e. `2^2`\n",
    "\n",
    "Level 3: `8` i.e. `2^3`\n",
    "\n",
    "...\n",
    "\n",
    "Level k-1: `2^(k-1)`\n",
    "\n",
    "If the total number of nodes in the tree is `N`, then it follows that\n",
    "\n",
    "```\n",
    "N = 1 + 2^1 + 2^2 + 2^3 + ... + 2^(k-1)\n",
    "```\n",
    "\n",
    "\n",
    "We can simplify this equation by adding `1` on each side:\n",
    "\n",
    "```\n",
    "N + 1 = 1 + 1 + 2^1 + 2^2 + 2^3 + ... + 2^(k-1) \n",
    "\n",
    "N + 1 = 2^1 + 2^1 + 2^2+ 2^3 + ... + 2^(k-1) \n",
    "\n",
    "N + 1 = = 2^2 + 2^2 + 2^3 + ... + 2^(k-1)\n",
    "\n",
    "N + 1 = = 2^3 + 2^3 + ... + 2^(k-1)\n",
    "\n",
    "...\n",
    "\n",
    "N + 1 = 2^(k-1) + 2^(k-1)\n",
    "\n",
    "N + 1 = 2^k\n",
    "\n",
    "k = log(N + 1) <= log(N) + 1 \n",
    "\n",
    "```\n",
    "\n",
    "Thus, to store `N` records we require a balanced binary search tree (BST) of height no larger than `log(N) + 1`. This is a very useful property, in combination with the fact that nodes are arranged in a way that makes it easy to find a specific key by following a single path down from the root. \n",
    "\n",
    "As we'll see soon, the `insert`, `find` and `update` operations in a balanced BST have time complexity `O(log N)` since they all involve traversing a single path down from the root of the tree."
   ]
  },
  {
   "cell_type": "markdown",
   "id": "00622109",
   "metadata": {},
   "source": [
    "## Binary Tree\n",
    "\n",
    "> **QUESTION 2**: Implement a binary tree using Python, and show its usage with some examples.\n",
    "\n",
    "To begin, we'll create simple binary tree (without any of the additional properties) containing numbers as keys within nodes. Here's an example:\n",
    "\n",
    "<img src=\"https://i.imgur.com/hg2ZG5h.png\" width=\"240\">\n",
    "\n",
    "Here's a simple class representing a node within a binary tree."
   ]
  },
  {
   "cell_type": "code",
   "execution_count": 19,
   "id": "90f2159c",
   "metadata": {},
   "outputs": [],
   "source": [
    "class TreeNode:\n",
    "    def __init__(self, key):\n",
    "        self.key = key\n",
    "        self.left = None\n",
    "        self.right = None"
   ]
  },
  {
   "cell_type": "code",
   "execution_count": 20,
   "id": "c24359a6",
   "metadata": {},
   "outputs": [],
   "source": [
    "node0 = TreeNode(3)\n",
    "node1 = TreeNode(4)\n",
    "node2 = TreeNode(5)"
   ]
  },
  {
   "cell_type": "code",
   "execution_count": 21,
   "id": "f14fdca7",
   "metadata": {},
   "outputs": [
    {
     "data": {
      "text/plain": [
       "3"
      ]
     },
     "execution_count": 21,
     "metadata": {},
     "output_type": "execute_result"
    }
   ],
   "source": [
    "node0.key"
   ]
  },
  {
   "cell_type": "code",
   "execution_count": 22,
   "id": "d72154a3",
   "metadata": {},
   "outputs": [],
   "source": [
    "node0.left = node1\n",
    "node0.right = node2"
   ]
  },
  {
   "cell_type": "markdown",
   "id": "a1eb0f6e",
   "metadata": {},
   "source": [
    "And we're done! We can create a new variable *tree* which simply points to the root node, and use it to access all the nodes within the tree.\n",
    "\n",
    "<img src=\"https://i.imgur.com/hg2ZG5h.png\" width=\"240\">"
   ]
  },
  {
   "cell_type": "code",
   "execution_count": 23,
   "id": "d972675d",
   "metadata": {},
   "outputs": [],
   "source": [
    "tree = node0"
   ]
  },
  {
   "cell_type": "code",
   "execution_count": 24,
   "id": "c82cf19a",
   "metadata": {},
   "outputs": [
    {
     "data": {
      "text/plain": [
       "3"
      ]
     },
     "execution_count": 24,
     "metadata": {},
     "output_type": "execute_result"
    }
   ],
   "source": [
    "tree.key"
   ]
  },
  {
   "cell_type": "code",
   "execution_count": 25,
   "id": "f48c80aa",
   "metadata": {},
   "outputs": [
    {
     "data": {
      "text/plain": [
       "4"
      ]
     },
     "execution_count": 25,
     "metadata": {},
     "output_type": "execute_result"
    }
   ],
   "source": [
    "tree.left.key"
   ]
  },
  {
   "cell_type": "code",
   "execution_count": 26,
   "id": "2c15d446",
   "metadata": {},
   "outputs": [
    {
     "data": {
      "text/plain": [
       "5"
      ]
     },
     "execution_count": 26,
     "metadata": {},
     "output_type": "execute_result"
    }
   ],
   "source": [
    "tree.right.key"
   ]
  },
  {
   "cell_type": "markdown",
   "id": "cc6eff4e",
   "metadata": {},
   "source": [
    "Going forward, we'll use the term \"tree\" to refer to the root node. The term \"node\" can refer to any node in a tree, not necessarily the root.\n",
    "\n",
    "**Exercise:** Create the following binary tree using the `TreeNode` class defined above.\n",
    "\n",
    "<img src=\"https://i.imgur.com/d7djJAf.png\" width=\"540\">"
   ]
  },
  {
   "cell_type": "code",
   "execution_count": 27,
   "id": "66254fea",
   "metadata": {},
   "outputs": [],
   "source": [
    "root = TreeNode(2)\n",
    "root.left = TreeNode(3)\n",
    "root.left.left = TreeNode(1)"
   ]
  },
  {
   "cell_type": "code",
   "execution_count": 28,
   "id": "a719fd43",
   "metadata": {},
   "outputs": [
    {
     "name": "stdout",
     "output_type": "stream",
     "text": [
      "2 3 1\n"
     ]
    }
   ],
   "source": [
    "print(root.key, root.left.key, root.left.left.key)"
   ]
  },
  {
   "cell_type": "code",
   "execution_count": 29,
   "id": "456dfb84",
   "metadata": {},
   "outputs": [],
   "source": [
    "root.right = TreeNode(5)\n",
    "root.right.left = TreeNode(3)\n",
    "root.right.left.right = TreeNode(4)\n",
    "\n",
    "root.right.right = TreeNode(7)\n",
    "root.right.right.left = TreeNode(6)\n",
    "root.right.right.right = TreeNode(8)"
   ]
  },
  {
   "cell_type": "code",
   "execution_count": 30,
   "id": "302bcf2f",
   "metadata": {},
   "outputs": [
    {
     "data": {
      "text/plain": [
       "8"
      ]
     },
     "execution_count": 30,
     "metadata": {},
     "output_type": "execute_result"
    }
   ],
   "source": [
    "root.right.right.right.key"
   ]
  },
  {
   "cell_type": "markdown",
   "id": "c2b11b99",
   "metadata": {},
   "source": [
    "It's a bit inconvenient to create a tree by manually connecting all the nodes. Let's write a helper function which can convert a tuple with the structure `( left_subtree, key, right_subtree)` (where `left_subtree` and `right_subtree` are themselves tuples) into binary tree.\n",
    "\n",
    "Here's an tuple representing the tree shown above:"
   ]
  },
  {
   "cell_type": "code",
   "execution_count": 31,
   "id": "4e4fa749",
   "metadata": {},
   "outputs": [],
   "source": [
    "tree_tuple = ((1,3,None), 2, ((None, 3, 4), 5, (6, 7, 8)))"
   ]
  },
  {
   "cell_type": "code",
   "execution_count": 32,
   "id": "a9d14092",
   "metadata": {},
   "outputs": [],
   "source": [
    "def parse_tuple(data):\n",
    "    if isinstance(data, tuple) and len(data) == 3:\n",
    "        node = TreeNode(data[1])\n",
    "        node.left = parse_tuple(data[0])\n",
    "        node.right = parse_tuple(data[2])\n",
    "    elif data is None:\n",
    "        node = None\n",
    "    else:\n",
    "        node = TreeNode(data)\n",
    "    return node"
   ]
  },
  {
   "cell_type": "markdown",
   "id": "f4894c94",
   "metadata": {},
   "source": [
    "The `parse_tuple` creates a new root node when a tuple of size 3 as an the input. Interestingly, to create the left and right subtrees for the node, the `parse_tuple` function invokes itself. This technique is called _recursion_. The chain of _recursive_ calls ends when `parse_tuple` encounters a number or `None` as input. We'll use recursion extensively throughout this tutorial.\n",
    "\n",
    "\n",
    "**Exercise:** Add print statements inside `parse_tuple` to display the arguments for each call of the function. Does the sequence of recursive calls make sense to you?"
   ]
  },
  {
   "cell_type": "code",
   "execution_count": 33,
   "id": "20412e78",
   "metadata": {},
   "outputs": [],
   "source": [
    "tree2 = parse_tuple(((1,3,None), 2, ((None, 3, 4), 5, (6, 7, 8))))"
   ]
  },
  {
   "cell_type": "markdown",
   "id": "a3bd487c",
   "metadata": {},
   "source": [
    "We can now examine the tree to verify that it was constructed as expected.\n",
    "\n",
    "<img src=\"https://i.imgur.com/d7djJAf.png\" width=\"540\">"
   ]
  },
  {
   "cell_type": "code",
   "execution_count": 34,
   "id": "e4e4706b",
   "metadata": {},
   "outputs": [
    {
     "data": {
      "text/plain": [
       "2"
      ]
     },
     "execution_count": 34,
     "metadata": {},
     "output_type": "execute_result"
    }
   ],
   "source": [
    "tree2.key"
   ]
  },
  {
   "cell_type": "code",
   "execution_count": 35,
   "id": "cbbb3e83",
   "metadata": {},
   "outputs": [
    {
     "data": {
      "text/plain": [
       "(3, 5)"
      ]
     },
     "execution_count": 35,
     "metadata": {},
     "output_type": "execute_result"
    }
   ],
   "source": [
    "tree2.left.key, tree2.right.key"
   ]
  },
  {
   "cell_type": "code",
   "execution_count": 36,
   "id": "1810847e",
   "metadata": {},
   "outputs": [
    {
     "data": {
      "text/plain": [
       "(1, None, 3, 7)"
      ]
     },
     "execution_count": 36,
     "metadata": {},
     "output_type": "execute_result"
    }
   ],
   "source": [
    "tree2.left.left.key, tree2.left.right, tree2.right.left.key, tree2.right.right.key"
   ]
  },
  {
   "cell_type": "markdown",
   "id": "a8089690",
   "metadata": {},
   "source": [
    "**Exercise:** Define a function `tree_to_tuple` that converts a binary tree into a tuple representing the same tree. E.g. `tree_to_tuple` converts the tree created above to the tuple `((1, 3, None), 2, ((None, 3, 4), 5, (6, 7, 8)))`. *Hint*: Use recursion."
   ]
  },
  {
   "cell_type": "code",
   "execution_count": 37,
   "id": "7e357f46",
   "metadata": {},
   "outputs": [],
   "source": [
    "def tree_to_tuple(node):\n",
    "    \n",
    "    if isinstance(node, TreeNode):\n",
    "        if node.left is None and node.right is  None:\n",
    "            return node.key\n",
    "        \n",
    "        return (tree_to_tuple(node.left), node.key, tree_to_tuple(node.right))\n",
    "    else:\n",
    "        return node"
   ]
  },
  {
   "cell_type": "code",
   "execution_count": 38,
   "id": "93f2ec53",
   "metadata": {},
   "outputs": [],
   "source": [
    "tupledTree = tree_to_tuple(tree2)"
   ]
  },
  {
   "cell_type": "code",
   "execution_count": 39,
   "id": "2fcface0",
   "metadata": {},
   "outputs": [
    {
     "data": {
      "text/plain": [
       "((1, 3, None), 2, ((None, 3, 4), 5, (6, 7, 8)))"
      ]
     },
     "execution_count": 39,
     "metadata": {},
     "output_type": "execute_result"
    }
   ],
   "source": [
    "tupledTree"
   ]
  },
  {
   "cell_type": "code",
   "execution_count": 40,
   "id": "4a3b2822",
   "metadata": {},
   "outputs": [],
   "source": [
    "def display_keys(node, space='\\t', level=0):\n",
    "    # print(node.key if node else None, level)\n",
    "    \n",
    "    # If the node is empty\n",
    "    if node is None:\n",
    "        print(space*level + '∅')\n",
    "        return   \n",
    "    \n",
    "    # If the node is a leaf \n",
    "    if node.left is None and node.right is None:\n",
    "        print(space*level + str(node.key))\n",
    "        return\n",
    "    \n",
    "    # If the node has children\n",
    "    display_keys(node.right, space, level+1)\n",
    "    print(space*level + str(node.key))\n",
    "    display_keys(node.left,space, level+1)    "
   ]
  },
  {
   "cell_type": "code",
   "execution_count": 41,
   "id": "e72a3805",
   "metadata": {},
   "outputs": [
    {
     "name": "stdout",
     "output_type": "stream",
     "text": [
      "            8\n",
      "        7\n",
      "            6\n",
      "    5\n",
      "            4\n",
      "        3\n",
      "            ∅\n",
      "2\n",
      "        ∅\n",
      "    3\n",
      "        1\n"
     ]
    }
   ],
   "source": [
    "display_keys(tree2, '    ')"
   ]
  },
  {
   "cell_type": "markdown",
   "id": "a77dab9e",
   "metadata": {},
   "source": [
    "We can now visualize the tree that was just created (albeit rotated by 90 degrees). It's easy to see that it matches the expected structure.\n",
    "\n",
    "<img src=\"https://i.imgur.com/d7djJAf.png\" width=\"540\">\n",
    "\n",
    "**Exercise**: Create some more trees and visualize them using `display_keys`. You can use [excalidraw.com](https://excalidraw.com) as a digital whiteboard to create trees."
   ]
  },
  {
   "cell_type": "markdown",
   "id": "a6194809",
   "metadata": {},
   "source": [
    "## Traversing a Binary Tree\n",
    "\n",
    "The following questions are frequently asked in coding interviews and assessments:\n",
    "\n",
    "> **QUESTION 3**: Write a function to perform the _inorder_ traversal of a binary tree.\n",
    "\n",
    "> **QUESTION 4**: Write a function to perform the _preorder_ traversal of a binary tree.\n",
    "\n",
    "> **QUESTION 5**: Write a function to perform the _postorder_ traversal of a binary tree.\n",
    "\n",
    "A *traversal* refers to the process of visiting each node of a tree exactly once. _Visiting a node_ generally refers to adding the node's key to a list. There are three ways to traverse a binary tree and return the list of visited keys: \n",
    "\n",
    "### Inorder traversal\n",
    "\n",
    "\n",
    "\n",
    "  1. Traverse the left subtree recursively inorder.\n",
    "  2. Traverse the current node.\n",
    "  3. Traverse the right subtree recursively inorder.\n",
    "\n",
    "\n",
    "<img src=\"https://i.imgur.com/KCXpMA9.png\" width=\"540\">\n",
    "\n",
    "\n",
    "### Preorder traversal\n",
    "\n",
    "  1. Traverse the current node.\n",
    "  2. Traverse the left subtree recursively preorder.\n",
    "  3. Traverse the right subtree recursively preorder.\n",
    "  \n",
    "<img src=\"https://i.imgur.com/2xrMUWP.png\" width=\"540\">\n",
    "\n",
    "\n",
    "Can you guess how **postorder** traversal works??\n",
    "\n",
    "\n",
    "Here's an implementation of inorder traversal of a binary tree."
   ]
  },
  {
   "cell_type": "code",
   "execution_count": 42,
   "id": "04816394",
   "metadata": {},
   "outputs": [],
   "source": [
    "def traverse_in_order(node):\n",
    "    if node is None: \n",
    "        return []\n",
    "    return(traverse_in_order(node.left) + \n",
    "           [node.key] + \n",
    "           traverse_in_order(node.right))"
   ]
  },
  {
   "cell_type": "code",
   "execution_count": 43,
   "id": "532f78ce",
   "metadata": {},
   "outputs": [],
   "source": [
    "tree = parse_tuple(((1,3,None), 2, ((None, 3, 4), 5, (6, 7, 8))))"
   ]
  },
  {
   "cell_type": "code",
   "execution_count": 44,
   "id": "6a55cf9f",
   "metadata": {},
   "outputs": [
    {
     "data": {
      "text/plain": [
       "[1, 3, 2, 3, 4, 5, 6, 7, 8]"
      ]
     },
     "execution_count": 44,
     "metadata": {},
     "output_type": "execute_result"
    }
   ],
   "source": [
    "traverse_in_order(tree)"
   ]
  },
  {
   "attachments": {
    "image.png": {
     "image/png": "[encoded data removed]"
    }
   },
   "cell_type": "markdown",
   "id": "8b3f5660",
   "metadata": {},
   "source": [
    "![image.png](attachment:image.png)"
   ]
  },
  {
   "cell_type": "code",
   "execution_count": 45,
   "id": "7ea23a8a",
   "metadata": {},
   "outputs": [],
   "source": [
    "def postorder(node):\n",
    "    if node is None:\n",
    "        return []\n",
    "    return (postorder(node.right) + [node.key] + postorder(node.left))"
   ]
  },
  {
   "cell_type": "markdown",
   "id": "6950d27d",
   "metadata": {},
   "source": [
    "## Height and Size of a Binary Tree\n",
    "\n",
    "\n",
    "> **QUESTION 6**: Write a function to calculate the height/depth of a binary tree\n",
    "\n",
    "> **QUESTION 7**: Write a function to count the number of nodes in a binary tree\n",
    "\n",
    "\n",
    "The _height/depth_ of a binary tree is defined as the length of the longest path from its root node to a leaf. It can be computed recursively, as follows:"
   ]
  },
  {
   "cell_type": "markdown",
   "id": "3a534be3",
   "metadata": {},
   "source": [
    "Let's compute the height of this tree:\n",
    "\n",
    "<img src=\"https://i.imgur.com/d7djJAf.png\" width=\"540\">"
   ]
  },
  {
   "cell_type": "code",
   "execution_count": 46,
   "id": "b68f70f4",
   "metadata": {},
   "outputs": [],
   "source": [
    "def tree_height(node):\n",
    "    if node is None:\n",
    "        return 0\n",
    "    return 1 + max(tree_height(node.left), tree_height(node.right))"
   ]
  },
  {
   "cell_type": "code",
   "execution_count": 47,
   "id": "a948867e",
   "metadata": {},
   "outputs": [
    {
     "data": {
      "text/plain": [
       "4"
      ]
     },
     "execution_count": 47,
     "metadata": {},
     "output_type": "execute_result"
    }
   ],
   "source": [
    "tree_height(tree)"
   ]
  },
  {
   "cell_type": "code",
   "execution_count": 48,
   "id": "12260f3a",
   "metadata": {},
   "outputs": [],
   "source": [
    "def tree_size(node):\n",
    "    if node is None:\n",
    "        return 0\n",
    "    return 1 + tree_size(node.left) + tree_size(node.right)"
   ]
  },
  {
   "cell_type": "code",
   "execution_count": 49,
   "id": "fdb4efa7",
   "metadata": {},
   "outputs": [
    {
     "data": {
      "text/plain": [
       "9"
      ]
     },
     "execution_count": 49,
     "metadata": {},
     "output_type": "execute_result"
    }
   ],
   "source": [
    "tree_size(tree)"
   ]
  },
  {
   "cell_type": "code",
   "execution_count": 50,
   "id": "c3cfd88a",
   "metadata": {},
   "outputs": [],
   "source": [
    "        def maxdep(node):\n",
    "            if node is None:\n",
    "                return 0\n",
    "            \n",
    "            left_dep = maxdep(node.left)\n",
    "            right_dep = maxdep(node.right) \n",
    "    \n",
    "            return max(left_dep, right_dep) + 1\n",
    "    \n",
    "        def mindep(node):\n",
    "            if node is None:\n",
    "                return 0\n",
    "            if node.left == None and node.right == None:\n",
    "                return 1\n",
    "            \n",
    "            if node.left is None:\n",
    "                return mindep(node.right) +1\n",
    "            if node.right is None:\n",
    "                return mindep(node.left) +1\n",
    "            \n",
    "            left_dep = mindep(node.left) \n",
    "            right_dep = mindep(node.right)\n",
    "    \n",
    "            return min(left_dep, right_dep) + 1\n",
    "        \n",
    "        def dia(node):\n",
    "            if node is None:\n",
    "                return 0\n",
    "            \n",
    "            lmax = maxdep(node.left)\n",
    "            rmax = maxdep(node.right)\n",
    "            ldia = dia(node.left)\n",
    "            rdia = dia(node.right)\n",
    "            \n",
    "            return max(lmax + rmax + 1, max(ldia, rdia))\n",
    "            "
   ]
  },
  {
   "cell_type": "code",
   "execution_count": 51,
   "id": "b52d6ef0",
   "metadata": {},
   "outputs": [],
   "source": [
    "testcase = parse_tuple((((4),2,None),1,(5)))\n",
    "testcase2 = parse_tuple((((4),2,(5)),1,(3)))\n",
    "testcase3 = parse_tuple(((2),1,None))\n",
    "testcase4 = parse_tuple(((3,1,None),2,(5,4,None)))\n",
    "testcase5 = parse_tuple(((1,3,None),2,None))"
   ]
  },
  {
   "cell_type": "code",
   "execution_count": 52,
   "id": "e27a2ddb",
   "metadata": {},
   "outputs": [
    {
     "name": "stdout",
     "output_type": "stream",
     "text": [
      "3\n",
      "---------------------\n",
      "    ∅\n",
      "2\n",
      "        ∅\n",
      "    3\n",
      "        1\n"
     ]
    }
   ],
   "source": [
    "nodename = testcase5\n",
    "\n",
    "print(dia(nodename))\n",
    "print('---------------------')\n",
    "display_keys(nodename, '    ')"
   ]
  },
  {
   "cell_type": "markdown",
   "id": "04fc8f93",
   "metadata": {},
   "source": [
    "As a final step, let's compile all the functions we've written so far as methods withing the `TreeNode` class itself. Encapsulation of data and functionality within the same class is a good programming practice."
   ]
  },
  {
   "cell_type": "code",
   "execution_count": 53,
   "id": "b7973d09",
   "metadata": {},
   "outputs": [],
   "source": [
    "class TreeNode():\n",
    "    def __init__(self, key):\n",
    "        self.key, self.left, self.right = key, None, None\n",
    "    \n",
    "    def height(self):\n",
    "        if self is None:\n",
    "            return 0\n",
    "        return 1 + max(TreeNode.height(self.left), TreeNode.height(self.right))\n",
    "    \n",
    "    def size(self):\n",
    "        if self is None:\n",
    "            return 0\n",
    "        return 1 + TreeNode.size(self.left) + TreeNode.size(self.right)\n",
    "\n",
    "    def traverse_in_order(self):\n",
    "        if self is None: \n",
    "            return []\n",
    "        return (TreeNode.traverse_in_order(self.left) + \n",
    "                [self.key] + \n",
    "                TreeNode.traverse_in_order(self.right))\n",
    "    \n",
    "    def display_keys(self, space='\\t', level=0):\n",
    "        # If the node is empty\n",
    "        if self is None:\n",
    "            print(space*level + '∅')\n",
    "            return   \n",
    "\n",
    "        # If the node is a leaf \n",
    "        if self.left is None and self.right is None:\n",
    "            print(space*level + str(self.key))\n",
    "            return\n",
    "\n",
    "        # If the node has children\n",
    "        display_keys(self.right, space, level+1)\n",
    "        print(space*level + str(self.key))\n",
    "        display_keys(self.left,space, level+1)    \n",
    "    \n",
    "    def to_tuple(self):\n",
    "        if self is None:\n",
    "            return None\n",
    "        if self.left is None and self.right is None:\n",
    "            return self.key\n",
    "        return TreeNode.to_tuple(self.left),  self.key, TreeNode.to_tuple(self.right)\n",
    "    \n",
    "    def __str__(self):\n",
    "        return \"BinaryTree <{}>\".format(self.to_tuple())\n",
    "    \n",
    "    def __repr__(self):\n",
    "        return \"BinaryTree <{}>\".format(self.to_tuple())\n",
    "    \n",
    "    @staticmethod    \n",
    "    def parse_tuple(data):\n",
    "        if data is None:\n",
    "            node = None\n",
    "        elif isinstance(data, tuple) and len(data) == 3:\n",
    "            node = TreeNode(data[1])\n",
    "            node.left = TreeNode.parse_tuple(data[0])\n",
    "            node.right = TreeNode.parse_tuple(data[2])\n",
    "        else:\n",
    "            node = TreeNode(data)\n",
    "        return node"
   ]
  },
  {
   "cell_type": "markdown",
   "id": "64bf89ba",
   "metadata": {},
   "source": [
    "## Binary Search Tree (BST)\n",
    "\n",
    "A binary search tree or BST is a binary tree that satisfies the following conditions:\n",
    "\n",
    "1. The left subtree of any node only contains nodes with keys less than the node's key\n",
    "2. The right subtree of any node only contains nodes with keys greater than the node's key\n",
    "\n",
    "It follows from the above conditions that every subtree of a binary search tree must also be a binary search tree.\n",
    "\n",
    "\n",
    "> **QUESTION 8**: Write a function to check if a binary tree is a binary search tree (BST).\n",
    "\n",
    "> **QUESTION 9**: Write a function to find the maximum key in a binary tree.\n",
    "\n",
    "> **QUESTION 10**: Write a function to find the minimum key in a binary tree.\n",
    "\n",
    "\n",
    "Here's a function that covers all of the above:"
   ]
  },
  {
   "cell_type": "code",
   "execution_count": 54,
   "id": "5881f5a6",
   "metadata": {},
   "outputs": [],
   "source": [
    "def remove_none(nums):\n",
    "    return [x for x in nums if x is not None]\n",
    "\n",
    "def is_bst(node):\n",
    "    if node is None:\n",
    "        return True, None, None\n",
    "    \n",
    "    is_bst_l, min_l, max_l = is_bst(node.left)\n",
    "    is_bst_r, min_r, max_r = is_bst(node.right)\n",
    "    \n",
    "    is_bst_node = (is_bst_l and is_bst_r and \n",
    "              (max_l is None or node.key > max_l) and \n",
    "              (min_r is None or node.key < min_r))\n",
    "    \n",
    "    min_key = min(remove_none([min_l, node.key, min_r]))\n",
    "    max_key = max(remove_none([max_l, node.key, max_r]))\n",
    "    \n",
    "    # print(node.key, min_key, max_key, is_bst_node)\n",
    "        \n",
    "    return is_bst_node, min_key, max_key"
   ]
  },
  {
   "cell_type": "markdown",
   "id": "951b1141",
   "metadata": {},
   "source": [
    "The following tree is not a BST (because a node with the key 3 appears in the left subtree of a node with the key 2):\n",
    "\n",
    "<img src=\"https://i.imgur.com/d7djJAf.png\" width=\"540\">\n",
    "\n",
    "Let's verify this using `is_bst`."
   ]
  },
  {
   "cell_type": "code",
   "execution_count": 55,
   "id": "3af043d3",
   "metadata": {},
   "outputs": [
    {
     "data": {
      "text/plain": [
       "(False, 1, 8)"
      ]
     },
     "execution_count": 55,
     "metadata": {},
     "output_type": "execute_result"
    }
   ],
   "source": [
    "tree1 = TreeNode.parse_tuple(((1, 3, None), 2, ((None, 3, 4), 5, (6, 7, 8))))\n",
    "is_bst(tree1)"
   ]
  },
  {
   "cell_type": "markdown",
   "id": "1c129d5a",
   "metadata": {},
   "source": [
    "On the other hand, the following tree is a BST:\n",
    "\n",
    "<img src=\"https://i.imgur.com/JZeF9ix.png\" width=\"520\">\n",
    "\n",
    "Let's create this tree and verify that it is a BST. Note that the `TreeNode` class also supports using strings as keys, as strings support the comparison operators `<` and `>` too."
   ]
  },
  {
   "cell_type": "code",
   "execution_count": 56,
   "id": "0ff4364b",
   "metadata": {},
   "outputs": [
    {
     "data": {
      "text/plain": [
       "(True, 'aakash', 'vihsal')"
      ]
     },
     "execution_count": 56,
     "metadata": {},
     "output_type": "execute_result"
    }
   ],
   "source": [
    "tree2 = TreeNode.parse_tuple((('aakash', 'biraj', 'hemanth')  , 'jadhesh', ('siddhant', 'sonaksh', 'vihsal')))\n",
    "is_bst(tree2)"
   ]
  },
  {
   "cell_type": "markdown",
   "id": "124d133f",
   "metadata": {},
   "source": [
    "## Storing Key-Value Pairs using BSTs\n",
    "\n",
    "Recall that we need to store user objects with each key in our BST. Let's define new class `BSTNode` to represent the nodes of of our tree. Apart from having properties `key`, `left` and `right`, we'll also store a `value` and pointer to the parent node (for easier upward traversal)."
   ]
  },
  {
   "cell_type": "code",
   "execution_count": 57,
   "id": "a5dd7808",
   "metadata": {},
   "outputs": [],
   "source": [
    "class BSTNode():\n",
    "    def __init__(self, key, value=None):\n",
    "        self.key = key\n",
    "        self.value = value\n",
    "        self.left = None\n",
    "        self.right = None\n",
    "        self.parent = None"
   ]
  },
  {
   "cell_type": "markdown",
   "id": "e9d7ae5e",
   "metadata": {},
   "source": [
    "Let's try to recreate this BST with usernames as keys and user objects as values:\n",
    "\n",
    "<img src=\"https://i.imgur.com/JZeF9ix.png\" width=\"520\">"
   ]
  },
  {
   "cell_type": "code",
   "execution_count": 58,
   "id": "cc90d528",
   "metadata": {},
   "outputs": [
    {
     "data": {
      "text/plain": [
       "('jadhesh',\n",
       " User(username='jadhesh', name='Jadhesh Verma', email='jadhesh@example.com'))"
      ]
     },
     "execution_count": 58,
     "metadata": {},
     "output_type": "execute_result"
    }
   ],
   "source": [
    "# Level 0\n",
    "tree = BSTNode(jadhesh.username, jadhesh)\n",
    "# View Level 0\n",
    "tree.key, tree.value"
   ]
  },
  {
   "cell_type": "code",
   "execution_count": 59,
   "id": "f2de20df",
   "metadata": {},
   "outputs": [
    {
     "data": {
      "text/plain": [
       "('biraj',\n",
       " User(username='biraj', name='Biraj Das', email='biraj@example.com'),\n",
       " 'sonaksh',\n",
       " User(username='sonaksh', name='Sonaksh Kumar', email='sonaksh@example.com'))"
      ]
     },
     "execution_count": 59,
     "metadata": {},
     "output_type": "execute_result"
    }
   ],
   "source": [
    "# Level 1\n",
    "tree.left = BSTNode(biraj.username, biraj)\n",
    "tree.right = BSTNode(sonaksh.username, sonaksh)\n",
    "tree.left.parent, tree.right.parent = tree, tree\n",
    "\n",
    "# view level 1\n",
    "tree.left.key, tree.left.value, tree.right.key, tree.right.value"
   ]
  },
  {
   "cell_type": "code",
   "execution_count": 60,
   "id": "7362b6e0",
   "metadata": {},
   "outputs": [],
   "source": [
    "# level 2\n",
    "tree.left.left = BSTNode(aakash.username, aakash)\n",
    "tree.left.right = BSTNode(hemanth.username, hemanth)\n",
    "\n",
    "tree.right.left = BSTNode(siddhant.username, siddhant)\n",
    "tree.right.right = BSTNode(vishal.username, vishal)\n",
    "\n",
    "tree.left.left.parent, tree.left.right.parent = tree.left, tree.left\n",
    "tree.right.left.parent, tree.right.right.parent = tree.right, tree.right"
   ]
  },
  {
   "cell_type": "code",
   "execution_count": 61,
   "id": "6dd5347d",
   "metadata": {},
   "outputs": [
    {
     "name": "stdout",
     "output_type": "stream",
     "text": [
      "\t\tvishal\n",
      "\tsonaksh\n",
      "\t\tsiddhant\n",
      "jadhesh\n",
      "\t\themanth\n",
      "\tbiraj\n",
      "\t\taakash\n"
     ]
    }
   ],
   "source": [
    "display_keys(tree)"
   ]
  },
  {
   "cell_type": "markdown",
   "id": "9fed1987",
   "metadata": {},
   "source": [
    "### Insertion into BST\n",
    "\n",
    "\n",
    "> **QUESTION 11**: Write a function to insert a new node into a BST.\n",
    "\n",
    "\n",
    "We use the BST-property to perform insertion efficiently: \n",
    "\n",
    "1. Starting from the root node, we compare the key to be inserted with the current node's key\n",
    "2. If the key is smaller, we recursively insert it in the left subtree (if it exists) or attach it as as the left child if no left subtree exists.\n",
    "3. If the key is larger, we recursively insert it in the right subtree (if it exists) or attach it as as the right child if no right subtree exists.\n",
    "\n",
    "Here's a recursive implementation of `insert`."
   ]
  },
  {
   "cell_type": "code",
   "execution_count": 62,
   "id": "5055b285",
   "metadata": {},
   "outputs": [],
   "source": [
    "def insert(node, key, value):\n",
    "    if node is None:\n",
    "        node = BSTNode(key, value)\n",
    "    elif key < node.key:\n",
    "        node.left = insert(node.left, key, value)\n",
    "        node.left.parent = node\n",
    "    elif key > node.key:\n",
    "        node.right = insert(node.right, key, value)\n",
    "        node.right.parent = node\n",
    "    return node"
   ]
  },
  {
   "cell_type": "code",
   "execution_count": 63,
   "id": "a067f841",
   "metadata": {},
   "outputs": [
    {
     "data": {
      "text/plain": [
       "<__main__.BSTNode at 0x2c07b2fe730>"
      ]
     },
     "execution_count": 63,
     "metadata": {},
     "output_type": "execute_result"
    }
   ],
   "source": [
    "tree = insert(None, jadhesh.username, jadhesh)\n",
    "insert(tree, biraj.username, biraj)\n",
    "insert(tree, sonaksh.username, sonaksh)\n",
    "insert(tree, aakash.username, aakash)\n",
    "insert(tree, hemanth.username, hemanth)\n",
    "insert(tree, siddhant.username, siddhant)\n",
    "insert(tree, vishal.username, siddhant)"
   ]
  },
  {
   "cell_type": "code",
   "execution_count": 64,
   "id": "8b142a1e",
   "metadata": {},
   "outputs": [
    {
     "name": "stdout",
     "output_type": "stream",
     "text": [
      "\t\tvishal\n",
      "\tsonaksh\n",
      "\t\tsiddhant\n",
      "jadhesh\n",
      "\t\themanth\n",
      "\tbiraj\n",
      "\t\taakash\n"
     ]
    }
   ],
   "source": [
    "display_keys(tree)"
   ]
  },
  {
   "cell_type": "markdown",
   "id": "7dcf269e",
   "metadata": {},
   "source": [
    "Perfect! The tree was created as expected. \n",
    "\n",
    "Note, however, that the order of insertion of nodes change the structure of the resulting tree."
   ]
  },
  {
   "cell_type": "code",
   "execution_count": 65,
   "id": "dd3b9985",
   "metadata": {},
   "outputs": [
    {
     "data": {
      "text/plain": [
       "<__main__.BSTNode at 0x2c07b322490>"
      ]
     },
     "execution_count": 65,
     "metadata": {},
     "output_type": "execute_result"
    }
   ],
   "source": [
    "tree2 = insert(None, aakash.username, aakash)\n",
    "insert(tree2, biraj.username, biraj)\n",
    "insert(tree2, hemanth.username, hemanth)\n",
    "insert(tree2, jadhesh.username, jadhesh)\n",
    "insert(tree2, siddhant.username, siddhant)\n",
    "insert(tree2, sonaksh.username, sonaksh)\n",
    "insert(tree2, vishal.username, vishal)"
   ]
  },
  {
   "cell_type": "code",
   "execution_count": 66,
   "id": "650498a1",
   "metadata": {},
   "outputs": [
    {
     "name": "stdout",
     "output_type": "stream",
     "text": [
      "\t\t\t\t\t\tvishal\n",
      "\t\t\t\t\tsonaksh\n",
      "\t\t\t\t\t\t∅\n",
      "\t\t\t\tsiddhant\n",
      "\t\t\t\t\t∅\n",
      "\t\t\tjadhesh\n",
      "\t\t\t\t∅\n",
      "\t\themanth\n",
      "\t\t\t∅\n",
      "\tbiraj\n",
      "\t\t∅\n",
      "aakash\n",
      "\t∅\n"
     ]
    }
   ],
   "source": [
    "display_keys(tree2)"
   ]
  },
  {
   "cell_type": "markdown",
   "id": "5abc64d7",
   "metadata": {},
   "source": [
    "Can you see why the tree created above is skewed/unbalanced?\n",
    "\n",
    "<img src=\"https://i.imgur.com/lP5Thct.png\" width=\"520\">\n",
    "\n",
    "Skewed/unbalanced BSTs are problematic because the height of such trees often ceases to logarithmic compared to the number of nodes in the tree. For instance the above tree has 7 nodes and height 7.\n",
    "\n",
    "The length of the path traversed by `insert` is equal to the height of the tree (in the worst case). It follows that if the tree is balanced, the time complexity of insertion is `O(log N)` otherwise it is `O(N)`."
   ]
  },
  {
   "cell_type": "markdown",
   "id": "bf3668e8",
   "metadata": {},
   "source": [
    "### Finding a Node in BST\n",
    "\n",
    "> **QUESTION 11**: Find the value associated with a given key in a BST.\n",
    "\n",
    "We can follow a recursive strategy similar to insertion to find the node with a given key within a BST."
   ]
  },
  {
   "cell_type": "code",
   "execution_count": 67,
   "id": "0cd97875",
   "metadata": {},
   "outputs": [],
   "source": [
    "def find(node, key):\n",
    "    if node is None:\n",
    "        return None\n",
    "    if key == node.key:\n",
    "        return node\n",
    "    if key < node.key:\n",
    "        return find(node.left, key)\n",
    "    if key > node.key:\n",
    "        return find(node.right, key)"
   ]
  },
  {
   "cell_type": "markdown",
   "id": "38308065",
   "metadata": {},
   "source": [
    "<img src=\"https://i.imgur.com/dzDszlw.png\" width=\"520\">"
   ]
  },
  {
   "cell_type": "code",
   "execution_count": 68,
   "id": "38e7f189",
   "metadata": {},
   "outputs": [
    {
     "data": {
      "text/plain": [
       "('hemanth',\n",
       " User(username='hemanth', name='Hemanth Jain', email='hemanth@example.com'))"
      ]
     },
     "execution_count": 68,
     "metadata": {},
     "output_type": "execute_result"
    }
   ],
   "source": [
    "node = find(tree, 'hemanth')\n",
    "node.key, node.value"
   ]
  },
  {
   "cell_type": "markdown",
   "id": "e940f505",
   "metadata": {},
   "source": [
    "### Updating a value in a BST\n",
    "\n",
    "> **QUESTION 12:** Write a function to update the value associated with a given key within a BST\n",
    "\n",
    "We can use `find` to locate the node to be updated, and simply update it's value."
   ]
  },
  {
   "cell_type": "code",
   "execution_count": 69,
   "id": "310fe2d9",
   "metadata": {},
   "outputs": [],
   "source": [
    "def update(node, key, value):\n",
    "    target = find(node, key)\n",
    "    if target is not None:\n",
    "        target.value = value"
   ]
  },
  {
   "cell_type": "code",
   "execution_count": 70,
   "id": "f44ad1a8",
   "metadata": {},
   "outputs": [],
   "source": [
    "update(tree, 'hemanth', User('hemanth', 'Hemanth J', 'hemanthj@example.com'))"
   ]
  },
  {
   "cell_type": "code",
   "execution_count": 71,
   "id": "f982d2e8",
   "metadata": {},
   "outputs": [
    {
     "data": {
      "text/plain": [
       "User(username='hemanth', name='Hemanth J', email='hemanthj@example.com')"
      ]
     },
     "execution_count": 71,
     "metadata": {},
     "output_type": "execute_result"
    }
   ],
   "source": [
    "node = find(tree, 'hemanth')\n",
    "node.value"
   ]
  },
  {
   "cell_type": "markdown",
   "id": "de8abf9c",
   "metadata": {},
   "source": [
    "### List the nodes\n",
    "\n",
    "> **QUESTION 13:** Write a function to retrieve all the key-values pairs stored in a BST in the sorted order of keys.\n",
    "\n",
    "The nodes can be listed in sorted order by performing an inorder traversal of the BST."
   ]
  },
  {
   "cell_type": "code",
   "execution_count": 72,
   "id": "08c7ed09",
   "metadata": {},
   "outputs": [],
   "source": [
    "def list_all(node):\n",
    "    if node is None:\n",
    "        return []\n",
    "    return list_all(node.left) + [(node.key, node.value)] + list_all(node.right)"
   ]
  },
  {
   "cell_type": "code",
   "execution_count": 73,
   "id": "0682045c",
   "metadata": {},
   "outputs": [
    {
     "data": {
      "text/plain": [
       "[('aakash',\n",
       "  User(username='aakash', name='Aakash Rai', email='aakash@example.com')),\n",
       " ('biraj',\n",
       "  User(username='biraj', name='Biraj Das', email='biraj@example.com')),\n",
       " ('hemanth',\n",
       "  User(username='hemanth', name='Hemanth J', email='hemanthj@example.com')),\n",
       " ('jadhesh',\n",
       "  User(username='jadhesh', name='Jadhesh Verma', email='jadhesh@example.com')),\n",
       " ('siddhant',\n",
       "  User(username='siddhant', name='Siddhant U', email='siddhant@examp.com')),\n",
       " ('sonaksh',\n",
       "  User(username='sonaksh', name='Sonaksh Kumar', email='sonaksh@example.com')),\n",
       " ('vishal',\n",
       "  User(username='siddhant', name='Siddhant U', email='siddhant@examp.com'))]"
      ]
     },
     "execution_count": 73,
     "metadata": {},
     "output_type": "execute_result"
    }
   ],
   "source": [
    "list_all(tree)"
   ]
  },
  {
   "cell_type": "markdown",
   "id": "f47b4356",
   "metadata": {},
   "source": [
    "## Balanced Binary Trees\n",
    "\n",
    "> **QUESTION 14**: Write a function to determine if a binary tree is balanced.\n",
    "\n",
    "Here's a recursive strategy:\n",
    "\n",
    "1. Ensure that the left subtree is balanced.\n",
    "2. Ensure that the right subtree is balanced.\n",
    "3. Ensure that the difference between heights of left subtree and right subtree is not more than 1.\n"
   ]
  },
  {
   "cell_type": "code",
   "execution_count": 74,
   "id": "72e1779c",
   "metadata": {},
   "outputs": [],
   "source": [
    "def is_balanced(node):\n",
    "    if node is None:\n",
    "        return True, 0\n",
    "    balanced_l, height_l = is_balanced(node.left)\n",
    "    balanced_r, height_r = is_balanced(node.right)\n",
    "    balanced = balanced_l and balanced_r and abs(height_l - height_r) <= 1\n",
    "    height = 1 + max(height_l, height_r)\n",
    "    return balanced, height"
   ]
  },
  {
   "cell_type": "code",
   "execution_count": 75,
   "id": "1e3d7741",
   "metadata": {},
   "outputs": [
    {
     "data": {
      "text/plain": [
       "(True, 3)"
      ]
     },
     "execution_count": 75,
     "metadata": {},
     "output_type": "execute_result"
    }
   ],
   "source": [
    "is_balanced(tree)"
   ]
  },
  {
   "cell_type": "markdown",
   "id": "7ccf22cc",
   "metadata": {},
   "source": [
    "<img src=\"https://i.imgur.com/lP5Thct.png\" width=\"520\">"
   ]
  },
  {
   "cell_type": "code",
   "execution_count": 76,
   "id": "083834c5",
   "metadata": {},
   "outputs": [
    {
     "data": {
      "text/plain": [
       "(False, 7)"
      ]
     },
     "execution_count": 76,
     "metadata": {},
     "output_type": "execute_result"
    }
   ],
   "source": [
    "is_balanced(tree2)"
   ]
  },
  {
   "cell_type": "code",
   "execution_count": 77,
   "id": "68b1c41c",
   "metadata": {},
   "outputs": [
    {
     "data": {
      "text/plain": [
       "<__main__.BSTNode at 0x2c07b2fe730>"
      ]
     },
     "execution_count": 77,
     "metadata": {},
     "output_type": "execute_result"
    }
   ],
   "source": [
    "treet = tree\n",
    "insert(tree, tabish.username, tabish)"
   ]
  },
  {
   "cell_type": "code",
   "execution_count": 78,
   "id": "1574785d",
   "metadata": {},
   "outputs": [
    {
     "name": "stdout",
     "output_type": "stream",
     "text": [
      "\t\t\t∅\n",
      "\t\tvishal\n",
      "\t\t\ttabish\n",
      "\tsonaksh\n",
      "\t\tsiddhant\n",
      "jadhesh\n",
      "\t\themanth\n",
      "\tbiraj\n",
      "\t\taakash\n"
     ]
    }
   ],
   "source": [
    "display_keys(treet)"
   ]
  },
  {
   "cell_type": "code",
   "execution_count": 79,
   "id": "38145295",
   "metadata": {},
   "outputs": [
    {
     "data": {
      "text/plain": [
       "(True, 4)"
      ]
     },
     "execution_count": 79,
     "metadata": {},
     "output_type": "execute_result"
    }
   ],
   "source": [
    "is_balanced(treet)"
   ]
  },
  {
   "cell_type": "markdown",
   "id": "0768317c",
   "metadata": {},
   "source": [
    "## Balanced Binary Search Trees\n",
    "\n",
    "> **QUESTION 15**: Write a function to create a balanced BST from a sorted list/array of key-value pairs.\n",
    "\n",
    "We can use a recursive strategy here, turning the middle element of the list into the root, and recursively creating left and right subtrees."
   ]
  },
  {
   "cell_type": "code",
   "execution_count": 80,
   "id": "4e8c82a7",
   "metadata": {},
   "outputs": [],
   "source": [
    "def make_balanced_bst(data, lo=0, hi=None, parnet=None):\n",
    "    if hi is None:\n",
    "        hi = len(data) - 1\n",
    "    if lo > hi :\n",
    "        return None\n",
    "    \n",
    "    mid = (lo + hi) // 2\n",
    "    key, value = data[mid]\n",
    "    \n",
    "    root = BSTNode(key, value)\n",
    "    root.parent = parnet\n",
    "    root.left = make_balanced_bst(data, lo, mid-1, root)\n",
    "    root.right = make_balanced_bst(data, mid+1, hi, root)\n",
    "    \n",
    "    return root"
   ]
  },
  {
   "cell_type": "code",
   "execution_count": 81,
   "id": "a51a0e29",
   "metadata": {},
   "outputs": [
    {
     "data": {
      "text/plain": [
       "[('aakash',\n",
       "  User(username='aakash', name='Aakash Rai', email='aakash@example.com')),\n",
       " ('biraj',\n",
       "  User(username='biraj', name='Biraj Das', email='biraj@example.com')),\n",
       " ('hemanth',\n",
       "  User(username='hemanth', name='Hemanth Jain', email='hemanth@example.com')),\n",
       " ('jadhesh',\n",
       "  User(username='jadhesh', name='Jadhesh Verma', email='jadhesh@example.com')),\n",
       " ('siddhant',\n",
       "  User(username='siddhant', name='Siddhant U', email='siddhant@examp.com')),\n",
       " ('sonaksh',\n",
       "  User(username='sonaksh', name='Sonaksh Kumar', email='sonaksh@example.com')),\n",
       " ('vishal',\n",
       "  User(username='vishal', name='Vishal Goel', email='vishal@example.com')),\n",
       " ('tabish',\n",
       "  User(username='tabish', name='Tabish Shaikh', email='tabishshaikh764@gmail.com'))]"
      ]
     },
     "execution_count": 81,
     "metadata": {},
     "output_type": "execute_result"
    }
   ],
   "source": [
    "data = [(user.username, user) for user in users]\n",
    "data"
   ]
  },
  {
   "cell_type": "code",
   "execution_count": 82,
   "id": "60f040c4",
   "metadata": {},
   "outputs": [
    {
     "name": "stdout",
     "output_type": "stream",
     "text": [
      "\t\t\ttabish\n",
      "\t\tvishal\n",
      "\t\t\t∅\n",
      "\tsonaksh\n",
      "\t\tsiddhant\n",
      "jadhesh\n",
      "\t\themanth\n",
      "\tbiraj\n",
      "\t\taakash\n"
     ]
    }
   ],
   "source": [
    "tree = make_balanced_bst(data)\n",
    "display_keys(tree)"
   ]
  },
  {
   "cell_type": "markdown",
   "id": "d1a57ce6",
   "metadata": {},
   "source": [
    "## Balancing an Unbalanced BST\n",
    "\n",
    "> **QUESTION 16:** Write a function to balance an unbalanced binary search tree.\n",
    "\n",
    "We first perform an inorder traversal, then create a balanced BST using the function defined earlier."
   ]
  },
  {
   "cell_type": "code",
   "execution_count": 83,
   "id": "f0df3808",
   "metadata": {},
   "outputs": [],
   "source": [
    "def balance_bst(node):\n",
    "    return make_balanced_bst(list_all(node))"
   ]
  },
  {
   "cell_type": "code",
   "execution_count": 84,
   "id": "3bd7649d",
   "metadata": {},
   "outputs": [
    {
     "name": "stdout",
     "output_type": "stream",
     "text": [
      "\t\t\ttabish\n",
      "\t\tvishal\n",
      "\t\t\t∅\n",
      "\tsonaksh\n",
      "\t\tsiddhant\n",
      "jadhesh\n",
      "\t\themanth\n",
      "\tbiraj\n",
      "\t\taakash\n"
     ]
    }
   ],
   "source": [
    "tree2 = balance_bst(tree)\n",
    "display_keys(tree2)"
   ]
  },
  {
   "cell_type": "markdown",
   "id": "ad2fa099",
   "metadata": {},
   "source": [
    "After every insertion, we can balance the tree. This way the tree will remain balanced.\n",
    "\n",
    "Complexity of the various operations in a balanced BST:\n",
    "\n",
    "* Insert - O(log N) + O(N) = O(N)\n",
    "* Find - O(log N)\n",
    "* Update - O(log N)\n",
    "* List all - O(N)\n",
    "\n",
    "What's the real improvement between O(N) and O(log N)? "
   ]
  },
  {
   "cell_type": "code",
   "execution_count": 85,
   "id": "e109e2e7",
   "metadata": {},
   "outputs": [
    {
     "data": {
      "text/plain": [
       "26.5754247590989"
      ]
     },
     "execution_count": 85,
     "metadata": {},
     "output_type": "execute_result"
    }
   ],
   "source": [
    "import math\n",
    "\n",
    "math.log(100000000, 2)"
   ]
  },
  {
   "cell_type": "markdown",
   "id": "c77258a1",
   "metadata": {},
   "source": [
    "The logarithm (base 2) of 100 million is around 26. Thus, it takes only 26 operations to find or update a node within a BST (as opposed to 100 million)."
   ]
  },
  {
   "cell_type": "code",
   "execution_count": 86,
   "id": "23501356",
   "metadata": {},
   "outputs": [
    {
     "name": "stdout",
     "output_type": "stream",
     "text": [
      "CPU times: total: 0 ns\n",
      "Wall time: 0 ns\n"
     ]
    }
   ],
   "source": [
    "%%time\n",
    "for i in range(26):\n",
    "    j = i*i"
   ]
  },
  {
   "cell_type": "markdown",
   "id": "0fc0114f",
   "metadata": {},
   "source": [
    "Compared to linear time:"
   ]
  },
  {
   "cell_type": "code",
   "execution_count": 87,
   "id": "7c3603d5",
   "metadata": {},
   "outputs": [],
   "source": [
    "# %%time\n",
    "# for i in range(100000000):\n",
    "#     j = i*i"
   ]
  },
  {
   "cell_type": "markdown",
   "id": "912acbb7",
   "metadata": {},
   "source": [
    "Thus, find and update from a balanced binary search tree is 300,000 times faster than our original solution. To speed up insertions, we may choose to perform the balancing periodically (e.g. once every 1000 insertions). This way, most insertions will be O (log N), but every 1000th insertion will take a few seconds. Another options is to rebalance the tree periodically at the end of every hour."
   ]
  },
  {
   "cell_type": "markdown",
   "id": "8ebe39f8",
   "metadata": {},
   "source": [
    "## A Python-Friendly Treemap \n",
    "\n",
    "We are now ready to return to our original problem statement.\n",
    "\n",
    "> **QUESTION 1**: As a senior backend engineer at Jovian, you are tasked with developing a fast in-memory data structure to manage profile information (username, name and email) for 100 million users. It should allow the following operations to be performed efficiently:\n",
    "> \n",
    "> 1. **Insert** the profile information for a new user.\n",
    "> 2. **Find** the profile information of a user, given their username\n",
    "> 3. **Update** the profile information of a user, given their usrname\n",
    "> 5. **List** all the users of the platform, sorted by username\n",
    ">\n",
    "> You can assume that usernames are unique. \n",
    "\n",
    "\n",
    "\n",
    "We can create a generic class `TreeMap` which supports all the operations specified in the original problem statement in a python-friendly manner."
   ]
  },
  {
   "cell_type": "code",
   "execution_count": 88,
   "id": "74a67500",
   "metadata": {},
   "outputs": [],
   "source": [
    "class TreeMap():\n",
    "    def __init__(self):\n",
    "        self.root = None\n",
    "        \n",
    "    def __setitem__(self, key, value):\n",
    "        node = find(self.root, key)\n",
    "        if not node:\n",
    "            self.root = insert(self.root, key, value)\n",
    "            self.root = balance_bst(self.root)\n",
    "        else:\n",
    "            update(self.root, key, value)\n",
    "            \n",
    "        \n",
    "    def __getitem__(self, key):\n",
    "        node = find(self.root, key)\n",
    "        return node.value if node else None\n",
    "    \n",
    "    def __iter__(self):\n",
    "        return (x for x in list_all(self.root))\n",
    "    \n",
    "    def __len__(self):\n",
    "        return tree_size(self.root)\n",
    "    \n",
    "    def display(self):\n",
    "        return display_keys(self.root)"
   ]
  },
  {
   "cell_type": "code",
   "execution_count": 89,
   "id": "a196f16d",
   "metadata": {},
   "outputs": [
    {
     "name": "stdout",
     "output_type": "stream",
     "text": [
      "∅\n"
     ]
    }
   ],
   "source": [
    "treemap = TreeMap()\n",
    "treemap.display()"
   ]
  },
  {
   "cell_type": "code",
   "execution_count": 90,
   "id": "d3063b66",
   "metadata": {},
   "outputs": [
    {
     "name": "stdout",
     "output_type": "stream",
     "text": [
      "\tsonaksh\n",
      "jadhesh\n",
      "\taakash\n"
     ]
    }
   ],
   "source": [
    "treemap['aakash'] = aakash\n",
    "treemap['jadhesh'] = jadhesh\n",
    "treemap['sonaksh'] = sonaksh\n",
    "\n",
    "treemap.display()"
   ]
  },
  {
   "cell_type": "code",
   "execution_count": 91,
   "id": "c603ef37",
   "metadata": {},
   "outputs": [
    {
     "name": "stdout",
     "output_type": "stream",
     "text": [
      "\t\t\tvishal\n",
      "\t\ttabish\n",
      "\t\t\t∅\n",
      "\tsonaksh\n",
      "\t\tsiddhant\n",
      "jadhesh\n",
      "\t\themanth\n",
      "\tbiraj\n",
      "\t\taakash\n"
     ]
    }
   ],
   "source": [
    "treemap['biraj'] = biraj\n",
    "treemap['hemanth'] = hemanth\n",
    "treemap['siddhant'] = siddhant\n",
    "treemap['vishal'] = vishal\n",
    "treemap['tabish'] = tabish\n",
    "treemap.display()"
   ]
  },
  {
   "cell_type": "code",
   "execution_count": 92,
   "id": "3060b773",
   "metadata": {},
   "outputs": [
    {
     "name": "stdout",
     "output_type": "stream",
     "text": [
      "aakash User(username='aakash', name='Aakash Rai', email='aakash@example.com')\n",
      "biraj User(username='biraj', name='Biraj Das', email='biraj@example.com')\n",
      "hemanth User(username='hemanth', name='Hemanth Jain', email='hemanth@example.com')\n",
      "jadhesh User(username='jadhesh', name='Jadhesh Verma', email='jadhesh@example.com')\n",
      "siddhant User(username='siddhant', name='Siddhant U', email='siddhant@examp.com')\n",
      "sonaksh User(username='sonaksh', name='Sonaksh Kumar', email='sonaksh@example.com')\n",
      "tabish User(username='tabish', name='Tabish Shaikh', email='tabishshaikh764@gmail.com')\n",
      "vishal User(username='vishal', name='Vishal Goel', email='vishal@example.com')\n"
     ]
    }
   ],
   "source": [
    "for key, value in treemap:\n",
    "    print(key, value)"
   ]
  },
  {
   "cell_type": "markdown",
   "id": "ba38e63e",
   "metadata": {},
   "source": [
    "## Self-Balancing Binary Trees and AVL Trees\n",
    "\n",
    "A *self-balancing binary tree* remains balanced after every insertion or deletion. Several decades of research has gone into creating self-balancing binary trees, and many approaches have been devised e.g. B-trees, Red Black Trees and  AVL (Adelson-Velsky Landis) trees.\n",
    "\n",
    "We'll take a brief look at AVL trees. Self-balancing in AVL trees is achieved by tracking the *balance factor* (difference between the height of the left subtree and the right subtree) for each node and *rotating* unbalanced subtrees along the path of insertion/deletion to balance them.\n",
    "\n",
    "![](https://upload.wikimedia.org/wikipedia/commons/f/fd/AVL_Tree_Example.gif)\n",
    "\n",
    "In a balanced BST, the balance factor of each node is either 0, -1, or 1. When we perform an insertion, then the balance factor of certain nodes along the path of insertion may change to 2 or -2. Those nodes can be \"rotated\" one-by-one to bring the balance factor back to 1, 0 or -1. \n",
    "\n",
    "There are 4 different scenarios for balancing, two of which require a single rotation, while the others require 2 rotations:\n",
    "\n",
    "\n",
    "![](https://s3.amazonaws.com/hr-challenge-images/0/1436854305-b167cc766c-AVL_Tree_Rebalancing.svg.png)\n",
    "\n",
    "Source: [HackerRank](https://www.hackerrank.com/challenges/self-balancing-tree/problem)\n",
    "\n",
    "Since each rotation takes constant time, and at most `log N` rotations may be required, this operation is far more efficient than creating a balanced binary tree from scratch, allowing insertion and deletion to be performed in `O (log N)` time. Here are some references for AVL Trees:\n",
    "\n",
    "* Explanation of the various cases: https://youtu.be/jDM6_TnYIqE?t=482\n",
    "* Implementation: https://www.geeksforgeeks.org/avl-tree-set-1-insertion/"
   ]
  },
  {
   "cell_type": "code",
   "execution_count": null,
   "id": "4ebb656f",
   "metadata": {},
   "outputs": [],
   "source": []
  }
 ],
 "metadata": {
  "kernelspec": {
   "display_name": "Python 3 (ipykernel)",
   "language": "python",
   "name": "python3"
  },
  "language_info": {
   "codemirror_mode": {
    "name": "ipython",
    "version": 3
   },
   "file_extension": ".py",
   "mimetype": "text/x-python",
   "name": "python",
   "nbconvert_exporter": "python",
   "pygments_lexer": "ipython3",
   "version": "3.9.13"
  }
 },
 "nbformat": 4,
 "nbformat_minor": 5
}
