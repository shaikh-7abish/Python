{
 "cells": [
  {
   "cell_type": "markdown",
   "id": "bcafec50",
   "metadata": {},
   "source": [
    "# Merge Sort, Quicksort and Divide-n-Conquer Algorithms in Python\n",
    "\n",
    "### Part 3 of \"Data Structures and Algorithms in Python\"\n",
    "\n",
    "[Data Structures and Algorithms in Python](https://jovian.ai/learn/data-structures-and-algorithms-in-python) is a beginner-friendly introduction to common data structures (linked lists, stacks, queues, graphs) and algorithms (search, sorting, recursion, dynamic programming) in Python, designed to help you prepare for coding interviews and assessments. \n",
    "\n",
    "Earn a verified certificate of accomplishment for this course by signing up here: http://pythondsa.com. Ask questions, get help & participate in discussions on the [course community forum](https://jovian.ai/forum/c/data-structures-and-algorithms-in-python/78). "
   ]
  },
  {
   "cell_type": "markdown",
   "id": "0190c2de",
   "metadata": {},
   "source": [
    "## Problem \n",
    "\n",
    "\n",
    "In this notebook, we'll focus on solving the following problem:\n",
    "\n",
    "> **QUESTION 1**: You're working on a new feature on Jovian called \"Top Notebooks of the Week\". Write a function to sort a list of notebooks in decreasing order of likes. Keep in mind that up to millions of notebooks  can be created every week, so your function needs to be as efficient as possible.\n",
    "\n",
    "\n",
    "The problem of sorting a list of objects comes up over and over in computer science and software development, and it's important to understand common approaches for sorting, and the trade-offs they offer. Before we solve the above problem, we'll solve a simplified version of the problem:\n",
    "\n",
    "> **QUESTION 2**: Write a program to sort a list of numbers.\n",
    "\n",
    "\n",
    "\"Sorting\" usually refers to \"sorting in ascending order\", unless specified otherwise."
   ]
  },
  {
   "cell_type": "markdown",
   "id": "3c3f0508",
   "metadata": {},
   "source": [
    "## The Method\n",
    "\n",
    "\n",
    "Here's a systematic strategy we'll apply for solving problems:\n",
    "\n",
    "1. State the problem clearly. Identify the input & output formats.\n",
    "2. Come up with some example inputs & outputs. Try to cover all edge cases.\n",
    "3. Come up with a correct solution for the problem. State it in plain English.\n",
    "4. Implement the solution and test it using example inputs. Fix bugs, if any.\n",
    "5. Analyze the algorithm's complexity and identify inefficiencies, if any.\n",
    "6. Apply the right technique to overcome the inefficiency. Repeat steps 3 to 6.\n",
    "\n"
   ]
  },
  {
   "cell_type": "markdown",
   "id": "85842cb9",
   "metadata": {},
   "source": [
    "## 1. State the problem clearly. Identify the input & output formats.\n",
    "\n",
    "\n",
    "#### Problem\n",
    "\n",
    "> We need to write a function to sort a list of numbers in increasing order.\n",
    "\n",
    "#### Input\n",
    "\n",
    "1. `nums`: A list of numbers e.g. `[4, 2, 6, 3, 4, 6, 2, 1]` \n",
    "\n",
    "#### Output\n",
    "\n",
    "2. `sorted_nums`: The sorted version of `nums` e.g. `[1, 2, 2, 3, 4, 4, 6, 6]`\n",
    "\n",
    "\n",
    "The signature of our function would be as follows:"
   ]
  },
  {
   "cell_type": "markdown",
   "id": "2f0d9aa8",
   "metadata": {},
   "source": [
    "## 2. Come up with some example inputs & outputs. \n",
    "\n",
    "Here are some scenarios we may want to test out:\n",
    "\n",
    "1. Some lists of numbers in random order.\n",
    "2. A list that's already sorted.\n",
    "3. A list that's sorted in descending order.\n",
    "4. A list containing repeating elements.\n",
    "5. An empty list. \n",
    "6. A list containing just one element.\n",
    "7. A list containing one element repeated many times.\n",
    "8. A really long list.\n",
    "\n",
    "Let's create some test cases for these scenarios. We'll represent each test case as a dictionary for easier automated testing."
   ]
  },
  {
   "cell_type": "code",
   "execution_count": 1,
   "id": "b2876f5a",
   "metadata": {},
   "outputs": [],
   "source": [
    "# List of numbers in random order\n",
    "test0 = {\n",
    "    'input': {\n",
    "        'nums': [4, 2, 6, 3, 4, 6, 2, 1]\n",
    "    },\n",
    "    'output': [1, 2, 2, 3, 4, 4, 6, 6]\n",
    "}\n",
    "\n",
    "# List of numbers in random order\n",
    "test1 = {\n",
    "    'input': {\n",
    "        'nums': [5, 2, 6, 1, 23, 7, -12, 12, -243, 0]\n",
    "    },\n",
    "    'output': [-243, -12, 0, 1, 2, 5, 6, 7, 12, 23]\n",
    "}\n",
    "# A list that's already sorted\n",
    "test2 = {\n",
    "    'input': {\n",
    "        'nums': [3, 5, 6, 8, 9, 10, 99]\n",
    "    },\n",
    "    'output': [3, 5, 6, 8, 9, 10, 99]\n",
    "}\n",
    "# A list that's sorted in descending order\n",
    "test3 = {\n",
    "    'input': {\n",
    "        'nums': [99, 10, 9, 8, 6, 5, 3]\n",
    "    },\n",
    "    'output': [3, 5, 6, 8, 9, 10, 99]\n",
    "}\n",
    "# A list containing repeating elements\n",
    "test4 = {\n",
    "    'input': {\n",
    "        'nums': [5, -12, 2, 6, 1, 23, 7, 7, -12, 6, 12, 1, -243, 1, 0]\n",
    "    },\n",
    "    'output': [-243, -12, -12, 0, 1, 1, 1, 2, 5, 6, 6, 7, 7, 12, 23]\n",
    "}\n",
    "# An empty list \n",
    "test5 = {\n",
    "    'input': {\n",
    "        'nums': []\n",
    "    },\n",
    "    'output': []\n",
    "}\n",
    "# A list containing just one element\n",
    "test6 = {\n",
    "    'input': {\n",
    "        'nums': [23]\n",
    "    },\n",
    "    'output': [23]\n",
    "}\n",
    "# A list containing one element repeated many times\n",
    "test7 = {\n",
    "    'input': {\n",
    "        'nums': [42, 42, 42, 42, 42, 42, 42]\n",
    "    },\n",
    "    'output': [42, 42, 42, 42, 42, 42, 42]\n",
    "}"
   ]
  },
  {
   "cell_type": "markdown",
   "id": "3b85d11b",
   "metadata": {},
   "source": [
    "To create the final test case (a really long list), we can start with a sorted list created using `range` and shuffle it to create the input."
   ]
  },
  {
   "cell_type": "code",
   "execution_count": 2,
   "id": "abfdb7d4",
   "metadata": {},
   "outputs": [],
   "source": [
    "import random\n",
    "\n",
    "in_list = list(range(10000))\n",
    "out_list = list(range(10000))\n",
    "random.shuffle(in_list)\n",
    "\n",
    "test8 = {\n",
    "    'input': {\n",
    "        'nums': in_list\n",
    "    },\n",
    "    'output': out_list\n",
    "}"
   ]
  },
  {
   "cell_type": "code",
   "execution_count": 3,
   "id": "c6dd2e83",
   "metadata": {},
   "outputs": [],
   "source": [
    "tests = [test0, test1, test2, test3, test4, test5, test6, test7, test8]"
   ]
  },
  {
   "cell_type": "markdown",
   "id": "064dca69",
   "metadata": {},
   "source": [
    "## 3. Come up with a correct solution. State it in plain English.\n",
    "\n",
    "It's easy to come up with a correct solution. Here's one: \n",
    "\n",
    "1. Iterate over the list of numbers, starting from the left\n",
    "2. Compare each number with the number that follows it\n",
    "3. If the number is greater than the one that follows it, swap the two elements\n",
    "4. Repeat steps 1 to 3 till the list is sorted.\n",
    "\n",
    "We need to repeat steps 1 to 3 at most `n-1` times to ensure that the array is sorted. Can you explain why? Hint: After one iteration, the largest number in the list.\n",
    "\n",
    "This method is called **bubble sort**, as it causes smaller elements to *bubble* to the top and larger to *sink* to the bottom. Here's a visual representation of the process:\n",
    "\n",
    "![](https://upload.wikimedia.org/wikipedia/commons/c/c8/Bubble-sort-example-300px.gif)\n"
   ]
  },
  {
   "cell_type": "markdown",
   "id": "903e47fb",
   "metadata": {},
   "source": [
    "## 4. Implement the solution and test it using example inputs.\n",
    "\n",
    "The implementation is straightforward. We'll create a copy of the list inside our function, to avoid changing it while sorting."
   ]
  },
  {
   "cell_type": "code",
   "execution_count": 4,
   "id": "999a5af8",
   "metadata": {},
   "outputs": [],
   "source": [
    "def bubble_sort(nums):\n",
    "    # Create a copy of the list, to avoid changing it\n",
    "    nums = list(nums)\n",
    "    \n",
    "    # 4. Repeat the process n-1 times\n",
    "    for _ in range(len(nums) - 1):\n",
    "        \n",
    "        # 1. Iterate over the array (except last element)\n",
    "        for i in range(len(nums) - 1):\n",
    "            \n",
    "            # 2. Compare the number with  \n",
    "            if nums[i] > nums[i+1]:\n",
    "                \n",
    "                # 3. Swap the two elements\n",
    "                nums[i], nums[i+1] = nums[i+1], nums[i]\n",
    "    \n",
    "    # Return the sorted list\n",
    "    return nums"
   ]
  },
  {
   "cell_type": "code",
   "execution_count": 5,
   "id": "a895f994",
   "metadata": {},
   "outputs": [
    {
     "name": "stdout",
     "output_type": "stream",
     "text": [
      "Input: [4, 2, 6, 3, 4, 6, 2, 1]\n",
      "Expected output: [1, 2, 2, 3, 4, 4, 6, 6]\n",
      "Actual output: [1, 2, 2, 3, 4, 4, 6, 6]\n",
      "Match: True\n"
     ]
    }
   ],
   "source": [
    "nums0, output0 = test0['input']['nums'], test0['output']\n",
    "\n",
    "print('Input:', nums0)\n",
    "print('Expected output:', output0)\n",
    "\n",
    "result0 = bubble_sort(nums0)\n",
    "\n",
    "print('Actual output:', result0)\n",
    "print('Match:', result0 == output0)"
   ]
  },
  {
   "cell_type": "markdown",
   "id": "7b15aa7f",
   "metadata": {},
   "source": [
    "## 5. Analyze the algorithm's complexity and identify inefficiencies\n",
    "\n",
    "The core operations in bubble sort are \"compare\" and \"swap\". To analyze the time complexity, we can simply count the total number of comparisons being made, since the total number of swaps will be less than or equal to the total number of comparisons (can you see why?).\n",
    "\n",
    "```\n",
    "for _ in range(len(nums) - 1):\n",
    "    for i in range(len(nums) - 1):\n",
    "        if nums[i] > nums[i+1]:\n",
    "            nums[i], nums[i+1] = nums[i+1], nums[i]\n",
    "```\n",
    "\n",
    "There are two loops, each of length `n-1`, where `n` is the number of elements in `nums`. So the total number of comparisons is $(n-1)*(n-1)$ i.e. $(n-1)^2$ i.e. $n^2 - 2n + 1$. \n",
    "\n",
    "Expressing this in the Big O notation, we can conclude that the time complexity of bubble sort is $O(n^2)$ (also known as quadratic complexity).\n",
    "\n",
    "**Exercise:** Verify that the bubble sort requires $O(1)$ additional space.\n",
    "\n",
    "The space complexity of bubble sort is $O(n)$, even thought it requires only constant/zero additional space, because the space required to store the inputs is also considered while calculating space complexity.\n",
    "\n",
    "As we saw from the last test, a list of 10,000 numbers takes about 12 seconds to be sorted using bubble sort. A list of ten times the size will 100 times longer i.e. about 20 minutes to be sorted, which is quite inefficient. A list of a million elements would take close to 2 days to be sorted.\n",
    "\n",
    "\n",
    "The inefficiency in bubble sort comes from the fact that we're shifting elements by at most one position at a time.\n",
    "\n",
    "![](https://upload.wikimedia.org/wikipedia/commons/c/c8/Bubble-sort-example-300px.gif)"
   ]
  },
  {
   "cell_type": "markdown",
   "id": "d57a8afe",
   "metadata": {},
   "source": [
    "## Insertion Sort\n",
    "\n",
    "Before we look at explore more efficient sorting techniques, here's another simple sorting technique called insertion sort, where we keep the initial portion of the array sorted and insert the remaining elements one by one at the right position."
   ]
  },
  {
   "cell_type": "code",
   "execution_count": 18,
   "id": "e049b257",
   "metadata": {},
   "outputs": [],
   "source": [
    "def insertion_sort(nums):\n",
    "    nums = list(nums)\n",
    "    for i in range(len(nums)):\n",
    "        cur = nums.pop(i)\n",
    "        j = i-1\n",
    "        while j >=0 and nums[j] > cur:\n",
    "            j -= 1\n",
    "        nums.insert(j+1, cur)\n",
    "    return nums            "
   ]
  },
  {
   "cell_type": "code",
   "execution_count": 19,
   "id": "efd6ed65",
   "metadata": {},
   "outputs": [
    {
     "name": "stdout",
     "output_type": "stream",
     "text": [
      "Input: [4, 2, 6, 3, 4, 6, 2, 1]\n",
      "Expected output: [1, 2, 2, 3, 4, 4, 6, 6]\n",
      "Actual output: [1, 2, 2, 3, 4, 4, 6, 6]\n",
      "Match: True\n"
     ]
    }
   ],
   "source": [
    "nums0, output0 = test0['input']['nums'], test0['output']\n",
    "\n",
    "print('Input:', nums0)\n",
    "print('Expected output:', output0)\n",
    "result0 = insertion_sort(nums0)\n",
    "print('Actual output:', result0)\n",
    "print('Match:', result0 == output0)"
   ]
  },
  {
   "cell_type": "markdown",
   "id": "cf5317bc",
   "metadata": {},
   "source": [
    "## 6. Apply the right technique to overcome the inefficiency. Repeat Steps 3 to 6.\n",
    "\n",
    "\n",
    "To performing sorting more efficiently, we'll apply a strategy called **Divide and Conquer**, which has the following general steps:\n",
    "\n",
    "1. Divide the inputs into two roughly equal parts.\n",
    "2. Recursively solve the problem individually for each of the two parts.\n",
    "3. Combine the results to solve the problem for the original inputs.\n",
    "4. Include terminating conditions for small or indivisible inputs.\n",
    "\n",
    "Here's a visual representation of the strategy:\n",
    "\n",
    "![](https://www.educative.io/api/edpresso/shot/5327356208087040/image/6475288173084672)\n",
    "\n",
    "### Merge Sort\n",
    "\n",
    "Following a visual representation of the divide and conquer applied for sorting numbers. This algorithm is known as merge sort:\n",
    "\n",
    "\n",
    "<img src=\"https://upload.wikimedia.org/wikipedia/commons/thumb/e/e6/Merge_sort_algorithm_diagram.svg/2560px-Merge_sort_algorithm_diagram.svg.png\" width=\"480\">\n"
   ]
  },
  {
   "cell_type": "markdown",
   "id": "b88ca785",
   "metadata": {},
   "source": [
    "## 7. Come up with a correct solution. State it in Plain English.\n",
    "\n",
    "Here's a step-by-step description for merge sort:\n",
    "\n",
    "1. If the input list is empty or contains just one element, it is already sorted. Return it.\n",
    "2. If not, divide the list of numbers into two roughly equal parts.\n",
    "3. Sort each part recursively using the merge sort algorithm. You'll get back two sorted lists.\n",
    "4. Merge the two sorted lists to get a single sorted list\n",
    "\n",
    "Can you guess how the \"merge\" operation step 4 works? Hint: Watch this animation: https://youtu.be/GW0USDwhBgo?t=28\n",
    "\n",
    "> **QUESTION 3**: Write a function to merge two sorted arrays."
   ]
  },
  {
   "cell_type": "markdown",
   "id": "3295cbf3",
   "metadata": {},
   "source": [
    "## 8. Implement the solution and test it using example inputs\n",
    "\n",
    "Let's implement the merge sort algorithm assuming we already have a helper function called `merge` for merging two sorted arrays."
   ]
  },
  {
   "cell_type": "code",
   "execution_count": 20,
   "id": "1da03056",
   "metadata": {},
   "outputs": [],
   "source": [
    "def merge_sort(nums):\n",
    "    # Terminating condition (list of 0 or 1 elements)\n",
    "    if len(nums) <= 1:\n",
    "        return nums\n",
    "    \n",
    "    # Get the midpoint\n",
    "    mid = len(nums) // 2\n",
    "    \n",
    "    # Split the list into two halves\n",
    "    left = nums[:mid]\n",
    "    right = nums[mid:]\n",
    "    \n",
    "    # Solve the problem for each half recursively\n",
    "    left_sorted, right_sorted = merge_sort(left), merge_sort(right)\n",
    "    \n",
    "    # Combine the results of the two halves\n",
    "    sorted_nums =  merge(left_sorted, right_sorted)\n",
    "    \n",
    "    return sorted_nums"
   ]
  },
  {
   "cell_type": "markdown",
   "id": "4577d05c",
   "metadata": {},
   "source": [
    "Two merge two sorted arrays, we can repeatedly compare the two least elements of each array, and copy over the smaller one into a new array.\n",
    "\n",
    "Here's a visual representation of the merge operation:\n",
    "\n",
    "<img src=\"https://i.imgur.com/XeEpa0U.png\" width=\"480\">\n",
    "\n"
   ]
  },
  {
   "cell_type": "code",
   "execution_count": 23,
   "id": "d8fd048d",
   "metadata": {},
   "outputs": [],
   "source": [
    "def merge(nums1, nums2):    \n",
    "    # List to store the results \n",
    "    merged = []\n",
    "    \n",
    "    # Indices for iteration\n",
    "    i, j = 0, 0\n",
    "    \n",
    "    # Loop over the two lists\n",
    "    while i < len(nums1) and j < len(nums2):        \n",
    "        \n",
    "        # Include the smaller element in the result and move to next element\n",
    "        if nums1[i] <= nums2[j]:\n",
    "            merged.append(nums1[i])\n",
    "            i += 1 \n",
    "        else:\n",
    "            merged.append(nums2[j])\n",
    "            j += 1\n",
    "    \n",
    "    # Get the remaining parts\n",
    "    nums1_tail = nums1[i:]\n",
    "    nums2_tail = nums2[j:]\n",
    "    \n",
    "    # Return the final merged array\n",
    "    return merged + nums1_tail + nums2_tail"
   ]
  },
  {
   "cell_type": "code",
   "execution_count": 24,
   "id": "c803df9b",
   "metadata": {},
   "outputs": [
    {
     "data": {
      "text/plain": [
       "[-1, 0, 1, 2, 3, 4, 7, 8, 9, 11, 12]"
      ]
     },
     "execution_count": 24,
     "metadata": {},
     "output_type": "execute_result"
    }
   ],
   "source": [
    "merge([1, 4, 7, 9, 11], [-1, 0, 2, 3, 8, 12])"
   ]
  },
  {
   "cell_type": "markdown",
   "id": "a2e1745d",
   "metadata": {},
   "source": [
    "It seems to work as expected. We can now test the `merge_sort` function."
   ]
  },
  {
   "cell_type": "code",
   "execution_count": 26,
   "id": "7dd393b5",
   "metadata": {},
   "outputs": [
    {
     "name": "stdout",
     "output_type": "stream",
     "text": [
      "Input: [4, 2, 6, 3, 4, 6, 2, 1]\n",
      "Expected output: [1, 2, 2, 3, 4, 4, 6, 6]\n",
      "Actual output: [1, 2, 2, 3, 4, 4, 6, 6]\n",
      "Match: True\n"
     ]
    }
   ],
   "source": [
    "nums0, output0 = test0['input']['nums'], test0['output']\n",
    "\n",
    "print('Input:', nums0)\n",
    "print('Expected output:', output0)\n",
    "result0 = merge_sort(nums0)\n",
    "print('Actual output:', result0)\n",
    "print('Match:', result0 == output0)"
   ]
  },
  {
   "cell_type": "markdown",
   "id": "793fe872",
   "metadata": {},
   "source": [
    "## 9. Analyze the algorithm's complexity and identify inefficiencies\n",
    "\n",
    "Analyzing the complexity of recursive algorithms can be tricky. It helps to track and follow the chain of recursive calls. We'll add some print statements to our `merge_sort` and `merge_functions` to display the _tree_ of recursive function calls."
   ]
  },
  {
   "cell_type": "code",
   "execution_count": 27,
   "id": "f10929ab",
   "metadata": {},
   "outputs": [],
   "source": [
    "def merge(nums1, nums2, depth=0):\n",
    "    print('  '*depth, 'merge:', nums1, nums2)\n",
    "    i, j, merged = 0, 0, []\n",
    "    while i < len(nums1) and j < len(nums2):\n",
    "        if nums1[i] <= nums2[j]:\n",
    "            merged.append(nums1[i])\n",
    "            i += 1\n",
    "        else:\n",
    "            merged.append(nums2[j])\n",
    "            j += 1\n",
    "    return merged + nums1[i:] + nums2[j:]\n",
    "        \n",
    "def merge_sort(nums, depth=0):\n",
    "    print('  '*depth, 'merge_sort:', nums)\n",
    "    if len(nums) < 2: \n",
    "        return nums\n",
    "    mid = len(nums) // 2\n",
    "    return merge(merge_sort(nums[:mid], depth+1), \n",
    "                 merge_sort(nums[mid:], depth+1), \n",
    "                 depth+1)"
   ]
  },
  {
   "cell_type": "code",
   "execution_count": 28,
   "id": "3a145c2f",
   "metadata": {},
   "outputs": [
    {
     "name": "stdout",
     "output_type": "stream",
     "text": [
      " merge_sort: [5, -12, 2, 6, 1, 23, 7, 7, -12]\n",
      "   merge_sort: [5, -12, 2, 6]\n",
      "     merge_sort: [5, -12]\n",
      "       merge_sort: [5]\n",
      "       merge_sort: [-12]\n",
      "       merge: [5] [-12]\n",
      "     merge_sort: [2, 6]\n",
      "       merge_sort: [2]\n",
      "       merge_sort: [6]\n",
      "       merge: [2] [6]\n",
      "     merge: [-12, 5] [2, 6]\n",
      "   merge_sort: [1, 23, 7, 7, -12]\n",
      "     merge_sort: [1, 23]\n",
      "       merge_sort: [1]\n",
      "       merge_sort: [23]\n",
      "       merge: [1] [23]\n",
      "     merge_sort: [7, 7, -12]\n",
      "       merge_sort: [7]\n",
      "       merge_sort: [7, -12]\n",
      "         merge_sort: [7]\n",
      "         merge_sort: [-12]\n",
      "         merge: [7] [-12]\n",
      "       merge: [7] [-12, 7]\n",
      "     merge: [1, 23] [-12, 7, 7]\n",
      "   merge: [-12, 2, 5, 6] [-12, 1, 7, 7, 23]\n"
     ]
    },
    {
     "data": {
      "text/plain": [
       "[-12, -12, 1, 2, 5, 6, 7, 7, 23]"
      ]
     },
     "execution_count": 28,
     "metadata": {},
     "output_type": "execute_result"
    }
   ],
   "source": [
    "merge_sort([5, -12, 2, 6, 1, 23, 7, 7, -12])"
   ]
  },
  {
   "cell_type": "markdown",
   "id": "a0c197e5",
   "metadata": {},
   "source": [
    "We can now see that each `merge_sort` call itself invokes `merge_sort` twice (but with an array half the size), and also invokes the `merge` function once to merge the two resulting arrays. The two calls to `merge_sort` themselves make two recursive calls followed by an invocation of `merge`. The division continues till we reach an list of size 1 or 0. Thus, the merge sort algorithm ultimately boils down to a series of `merge` operations performed on arrays of varying sizes. Inside the `merge` function we perform comparisons and add numbers to a new array.\n",
    "\n",
    "**Exercise:** Verify that time complexity of the merge operation is $O(n)$, where $n$ is the sum of the sizes of the two input lists. Hint: Count the number of comparisons.\n",
    "\n",
    "To find the overall complexity of `merge_sort`, we simply need to count how many times the `merge` function was invoked and the size of the input list for each invocation. Here's how all the subproblems can be visualized:\n",
    "\n",
    "\n",
    "![](https://i.imgur.com/j1IuS2t.png)\n",
    "\n",
    "Counting from the top and starting from 0, the $k^{th}$ level of the above tree involves $2^k$ invocations of `merge` with sublists of size roughly $n / 2^k$, where $n$ is the size of the original input list. Therefore the total number of comparisons at each level of the tree is $2^k * n/2^k = n$.\n",
    "\n",
    "Thus, if the height of the tree is $h$, the total number of comparisons is $n*h$. Since there are $n$ sublists of size 1 at the lowest level, it follows that $2^{(h-1)} = n$ i.e. $h = \\log n + 1$. Thus the time complexity of the merge sort algorithms is $O(n \\log n)$.\n",
    "\n",
    "As we already saw, it took just 50 ms to sort an array of 10,000 elements. Even an array of 1 million elements will take only a few seconds to be sorted.\n",
    "\n",
    "\n",
    "### Space Complexity\n",
    "\n",
    "\n",
    "\n",
    "\n",
    "To find the space complexity of merge sort, it helps to recall that a new list with equal to the sum of the sizes of the two lists is created in each invocation of `merge`. \n",
    "\n",
    "```\n",
    "i, j, merged = 0, 0, []\n",
    "while i < len(nums1) and j < len(nums2):\n",
    "    if nums1[i] <= nums2[j]:\n",
    "        merged.append(nums1[i])\n",
    "        i += 1\n",
    "    else:\n",
    "        merged.append(nums2[j])\n",
    "        j += 1\n",
    "```\n",
    "\n",
    "\n",
    "At first glance, it may seem that $O(n)$ space is required for each level of the tree, so the space complexity of merge sort is $O(n \\log n)$.\n",
    "\n",
    "![](https://i.imgur.com/KTbibGC.png)\n",
    "\n",
    "However, since the original sublists can be discarded after the `merge` operation, the additional space can be freed or reused for future merge calls. Thus, merge sort requires $O(n)$ additional space i.e. the space complexity is $O(n)$.\n",
    "\n",
    "\n",
    "There are several extensions and variations and extensions of merge sort:\n",
    "\n",
    "* K-way merge sort: https://en.wikipedia.org/wiki/K-way_merge_algorithm\n",
    "* Counting inversions in an array: https://www.geeksforgeeks.org/counting-inversions/\n",
    "* Merge sort and insertion sort hybrids: https://en.wikipedia.org/wiki/Timsort"
   ]
  },
  {
   "cell_type": "markdown",
   "id": "9b62786f",
   "metadata": {},
   "source": [
    "\n",
    "## 10. Apply the right technique to overcome the inefficiency. Repeat Steps 3 to 6.\n",
    "\n",
    "The fact that merge sort requires allocating additional space as large as the input itself makes it somewhat slow in practice because memory allocation is far more expensive than comparisons or swapping.\n",
    "\n",
    "### Quicksort\n",
    "\n",
    "To overcome the space inefficiencies of merge sort, we'll study another divide-and-conquer based sorting algorithm called **quicksort**, which works as follows:\n",
    "\n",
    "1. If the list is empty or has just one element, return it. It's already sorted.\n",
    "2. Pick a random element from the list. This element is called a _pivot_.\n",
    "3. Reorder the list so that all elements with values less than or equal to the pivot come before the pivot, while all elements with values greater than the pivot come after it. This operation is called _partitioning_.\n",
    "4. The pivot element divides the array into two parts which can be sorted independently by making a recursive call to quicksort.\n",
    "\n",
    "![](https://images.deepai.org/glossary-terms/a5228ea07c794b468efd1b7f758b9ead/Quicksort.png)\n",
    "\n",
    "The key observation here is that after the partition, the pivot element is at its right place in the sorted array, and the two parts of the array can be sorted independently in-place.\n",
    "\n",
    "Here's an implementation of quicksort, assuming we already have a helper function called `partitions` which picks a pivot, partitions the array in-place, and returns the position of the pivot element."
   ]
  },
  {
   "cell_type": "code",
   "execution_count": 29,
   "id": "f85ba6b5",
   "metadata": {},
   "outputs": [],
   "source": [
    "def quicksort(nums, start=0, end=None):\n",
    "    # print('quicksort', nums, start, end)\n",
    "    if end is None:\n",
    "        nums = list(nums)\n",
    "        end = len(nums) - 1\n",
    "    \n",
    "    if start < end:\n",
    "        pivot = partition(nums, start, end)\n",
    "        quicksort(nums, start, pivot-1)\n",
    "        quicksort(nums, pivot+1, end)\n",
    "\n",
    "    return nums"
   ]
  },
  {
   "cell_type": "markdown",
   "id": "35a337c6",
   "metadata": {},
   "source": [
    "Here's how the partition operation works([source](https://medium.com/basecs/pivoting-to-understand-quicksort-part-1-75178dfb9313)):\n",
    "\n",
    "<img src=\"https://i.imgur.com/Igk7Kr4.png\" width=\"420\">\n",
    "\n",
    "\n",
    "Here's an implementation of partition, which uses the last element of the list as a pivot:"
   ]
  },
  {
   "cell_type": "code",
   "execution_count": 35,
   "id": "bc4a72b4",
   "metadata": {},
   "outputs": [],
   "source": [
    "def partition(nums, start=0, end=None):\n",
    "#     print('partition', nums, start, end)\n",
    "    if end is None:\n",
    "        end = len(nums) - 1\n",
    "    \n",
    "    # Initialize right and left pointers\n",
    "    l, r = start, end-1\n",
    "    \n",
    "    # Iterate while they're apart\n",
    "    while r > l:\n",
    "#         print('  ', nums, l, r)\n",
    "        # Increment left pointer if number is less or equal to pivot\n",
    "        if nums[l] <= nums[end]:\n",
    "            l += 1\n",
    "        \n",
    "        # Decrement right pointer if number is greater than pivot\n",
    "        elif nums[r] > nums[end]:\n",
    "            r -= 1\n",
    "        \n",
    "        # Two out-of-place elements found, swap them\n",
    "        else:\n",
    "            nums[l], nums[r] = nums[r], nums[l]\n",
    "#     print('  ', nums, l, r)\n",
    "    # Place the pivot between the two parts\n",
    "    if nums[l] > nums[end]:\n",
    "        nums[l], nums[end] = nums[end], nums[l]\n",
    "        return l\n",
    "    else:\n",
    "        return end"
   ]
  },
  {
   "cell_type": "code",
   "execution_count": 36,
   "id": "7b8968a1",
   "metadata": {},
   "outputs": [],
   "source": [
    "l1 = [1, 5, 6, 2, 0, 11, 3]\n",
    "pivot = partition(l1)\n",
    "# print(l1, pivot)"
   ]
  },
  {
   "cell_type": "code",
   "execution_count": 32,
   "id": "8dcebc79",
   "metadata": {},
   "outputs": [
    {
     "name": "stdout",
     "output_type": "stream",
     "text": [
      "Input: [4, 2, 6, 3, 4, 6, 2, 1]\n",
      "Expected output: [1, 2, 2, 3, 4, 4, 6, 6]\n",
      "Actual output: [1, 2, 2, 3, 4, 4, 6, 6]\n",
      "Match: True\n"
     ]
    }
   ],
   "source": [
    "nums0, output0 = test0['input']['nums'], test0['output']\n",
    "\n",
    "print('Input:', nums0)\n",
    "print('Expected output:', output0)\n",
    "result0 = quicksort(nums0)\n",
    "print('Actual output:', result0)\n",
    "print('Match:', result0 == output0)"
   ]
  },
  {
   "cell_type": "markdown",
   "id": "fa086859",
   "metadata": {},
   "source": [
    "### Time Complexity of Quicksort\n",
    "\n",
    "If we assume that \n",
    "\n",
    "\n",
    "Best case partitioning:\n",
    "\n",
    "<img src=\"https://i.imgur.com/DgvYvnG.png\" width=\"480\">\n",
    "\n",
    "\n",
    "If we partition the list into two nearly equal parts, then the complexity analysis is similar to that of merge sort and quicksort has the complexity $O(n \\log n)$. This is called the average-case complexity.\n",
    "\n",
    "\n",
    "Worst case partitioning:\n",
    "\n",
    "\n",
    "<img src=\"https://cdn.kastatic.org/ka-perseus-images/7da2ac32779bef669a6f05decb62f219a9132158.png\" width=\"480\">\n",
    "\n",
    "In this case, the partition is called `n` times with lists of sizes `n`, `n-1`... so that total comparisions are $n + (n-1) + (n-2) + ... + 2 + 1 = n * (n-1) / 2$. So the worst-case complexity of quicksort is $O(n^2)$.\n",
    "\n",
    "**Exercise:** Verify that quicksort requires $O(1)$ additional space.\n",
    "\n",
    "Despite the quadratic worst case time complexity Quicksort is preferred in many situations because its running time is closer to $O(n \\log n)$ in practice, especially with a good strategy for picking a pivot. Some these are:\n",
    "\n",
    "- [Picking a random pivot](https://cs.stackexchange.com/questions/7582/what-is-the-advantage-of-randomized-quicksort)\n",
    "- [Picking median of medians](https://en.wikipedia.org/wiki/Median_of_medians)\n",
    "\n",
    "\n",
    "Here are some other problems you can solve using the partitioning strategy of Quicksort: https://www.techiedelight.com/problems-solved-using-partitioning-logic-quicksort/\n",
    "\n",
    "\n"
   ]
  },
  {
   "cell_type": "markdown",
   "id": "ca14b5c5",
   "metadata": {},
   "source": [
    "## Custom Comparison Functions\n",
    "\n",
    "Let's return to our original problem statement now.\n",
    "\n",
    "> **QUESTION 1**: You're working on a new feature on Jovian called \"Top Notebooks of the Week\". Write a function to sort a list of notebooks in decreasing order of likes. Keep in mind that up to millions of notebooks  can be created every week, so your function needs to be as efficient as possible.\n",
    "\n",
    "First, we need to sort objects, not just numbers. Also, we want to sort them in the descending order of likes. To achieve this, all we need is a custom comparison function to compare two notebooks.\n",
    "\n",
    "Let's create a class that captures basic information about notebooks."
   ]
  },
  {
   "cell_type": "code",
   "execution_count": 38,
   "id": "42951c64",
   "metadata": {},
   "outputs": [],
   "source": [
    "class Notebook:\n",
    "    def __init__(self, title, username, likes):\n",
    "        self.title, self.username, self.likes = title, username, likes\n",
    "        \n",
    "    def __repr__(self):\n",
    "        return 'Notebook <\"{}/{}\", {} likes>'.format(self.username, self.title, self.likes)"
   ]
  },
  {
   "cell_type": "markdown",
   "id": "59a6850d",
   "metadata": {},
   "source": [
    "test cases"
   ]
  },
  {
   "cell_type": "code",
   "execution_count": 39,
   "id": "e6181aff",
   "metadata": {},
   "outputs": [],
   "source": [
    "nb0 = Notebook('pytorch-basics', 'aakashns', 373)\n",
    "nb1 = Notebook('linear-regression', 'siddhant', 532)\n",
    "nb2 = Notebook('logistic-regression', 'vikas', 31)\n",
    "nb3 = Notebook('feedforward-nn', 'sonaksh', 94)\n",
    "nb4 = Notebook('cifar10-cnn', 'biraj', 2)\n",
    "nb5 = Notebook('cifar10-resnet', 'tanya', 29)\n",
    "nb6 = Notebook('anime-gans', 'hemanth', 80)\n",
    "nb7 = Notebook('python-fundamentals', 'vishal', 136)\n",
    "nb8 = Notebook('python-functions', 'aakashns', 74)\n",
    "nb9 = Notebook('python-numpy', 'siddhant', 92)"
   ]
  },
  {
   "cell_type": "code",
   "execution_count": 46,
   "id": "fb33f35d",
   "metadata": {},
   "outputs": [
    {
     "data": {
      "text/plain": [
       "[Notebook <\"aakashns/pytorch-basics\", 373 likes>,\n",
       " Notebook <\"siddhant/linear-regression\", 532 likes>,\n",
       " Notebook <\"vikas/logistic-regression\", 31 likes>,\n",
       " Notebook <\"sonaksh/feedforward-nn\", 94 likes>,\n",
       " Notebook <\"biraj/cifar10-cnn\", 2 likes>,\n",
       " Notebook <\"tanya/cifar10-resnet\", 29 likes>,\n",
       " Notebook <\"hemanth/anime-gans\", 80 likes>,\n",
       " Notebook <\"vishal/python-fundamentals\", 136 likes>,\n",
       " Notebook <\"aakashns/python-functions\", 74 likes>,\n",
       " Notebook <\"siddhant/python-numpy\", 92 likes>]"
      ]
     },
     "execution_count": 46,
     "metadata": {},
     "output_type": "execute_result"
    }
   ],
   "source": [
    "notebooks = [nb0, nb1, nb2, nb3, nb4, nb5, nb6, nb7, nb8, nb9]\n",
    "notebooks"
   ]
  },
  {
   "cell_type": "markdown",
   "id": "82393066",
   "metadata": {},
   "source": [
    "Next, we'll define a custom comparison function for comparing two notebooks. It will return the strings `'lesser'`, `'equal'` or `'greater'` to establish order between the two objects."
   ]
  },
  {
   "cell_type": "code",
   "execution_count": 41,
   "id": "9231efd9",
   "metadata": {},
   "outputs": [],
   "source": [
    "def compare_likes(nb1, nb2):\n",
    "    if nb1.likes > nb2.likes:\n",
    "        return 'lesser'\n",
    "    elif nb1.likes == nb2.likes:\n",
    "        return 'equal'\n",
    "    elif nb1.likes < nb2.likes:\n",
    "        return 'greater'"
   ]
  },
  {
   "cell_type": "markdown",
   "id": "5e6b4904",
   "metadata": {},
   "source": [
    "Note that we say `nb1` is _lesser_ than `nb2` if it has higher likes, because we want to sort the notebooks in decreasing order of likes.\n",
    "\n",
    "Here's an implementation of merge sort which accepts a custom comparison function."
   ]
  },
  {
   "cell_type": "code",
   "execution_count": 42,
   "id": "a81a30ce",
   "metadata": {},
   "outputs": [],
   "source": [
    "def default_compare(x, y):\n",
    "    if x < y:\n",
    "        return 'less'\n",
    "    elif x == y:\n",
    "        return 'equal'\n",
    "    else:\n",
    "        return 'greater'\n",
    "\n",
    "def merge_sort(objs, compare=default_compare):\n",
    "    if len(objs) < 2:\n",
    "        return objs\n",
    "    mid = len(objs) // 2\n",
    "    return merge(merge_sort(objs[:mid], compare), \n",
    "                 merge_sort(objs[mid:], compare), \n",
    "                 compare)\n",
    "\n",
    "def merge(left, right, compare):\n",
    "    i, j, merged = 0, 0, []\n",
    "    while i < len(left) and j < len(right):\n",
    "        result = compare(left[i], right[j])\n",
    "        if result == 'lesser' or result == 'equal':\n",
    "            merged.append(left[i])\n",
    "            i += 1\n",
    "        else:\n",
    "            merged.append(right[j])\n",
    "            j += 1\n",
    "    return merged + left[i:] + right[j:]"
   ]
  },
  {
   "cell_type": "code",
   "execution_count": 43,
   "id": "04fe9a8d",
   "metadata": {},
   "outputs": [
    {
     "data": {
      "text/plain": [
       "[Notebook <\"siddhant/linear-regression\", 532 likes>,\n",
       " Notebook <\"aakashns/pytorch-basics\", 373 likes>,\n",
       " Notebook <\"vishal/python-fundamentals\", 136 likes>,\n",
       " Notebook <\"sonaksh/feedforward-nn\", 94 likes>,\n",
       " Notebook <\"siddhant/python-numpy\", 92 likes>,\n",
       " Notebook <\"hemanth/anime-gans\", 80 likes>,\n",
       " Notebook <\"aakashns/python-functions\", 74 likes>,\n",
       " Notebook <\"vikas/logistic-regression\", 31 likes>,\n",
       " Notebook <\"tanya/cifar10-resnet\", 29 likes>,\n",
       " Notebook <\"biraj/cifar10-cnn\", 2 likes>]"
      ]
     },
     "execution_count": 43,
     "metadata": {},
     "output_type": "execute_result"
    }
   ],
   "source": [
    "sorted_notebooks = merge_sort(notebooks, compare_likes)\n",
    "sorted_notebooks"
   ]
  },
  {
   "cell_type": "markdown",
   "id": "50fab3f6",
   "metadata": {},
   "source": [
    "As you can see, the notebooks are now sorted by likes. Since we have written a generic `merge_sort` function that works with any compare function, we can also use it to sort the notebooks by title."
   ]
  },
  {
   "cell_type": "code",
   "execution_count": 44,
   "id": "76dd6b7c",
   "metadata": {},
   "outputs": [],
   "source": [
    "def compare_titles(nb1, nb2):\n",
    "    if nb1.title < nb2.title:\n",
    "        return 'lesser'\n",
    "    elif nb1.title == nb2.title:\n",
    "        return 'equal'\n",
    "    elif nb1.title > nb2.title:\n",
    "        return 'greater'"
   ]
  },
  {
   "cell_type": "code",
   "execution_count": 45,
   "id": "c5477cbc",
   "metadata": {},
   "outputs": [
    {
     "data": {
      "text/plain": [
       "[Notebook <\"hemanth/anime-gans\", 80 likes>,\n",
       " Notebook <\"biraj/cifar10-cnn\", 2 likes>,\n",
       " Notebook <\"tanya/cifar10-resnet\", 29 likes>,\n",
       " Notebook <\"sonaksh/feedforward-nn\", 94 likes>,\n",
       " Notebook <\"siddhant/linear-regression\", 532 likes>,\n",
       " Notebook <\"vikas/logistic-regression\", 31 likes>,\n",
       " Notebook <\"aakashns/python-functions\", 74 likes>,\n",
       " Notebook <\"vishal/python-fundamentals\", 136 likes>,\n",
       " Notebook <\"siddhant/python-numpy\", 92 likes>,\n",
       " Notebook <\"aakashns/pytorch-basics\", 373 likes>]"
      ]
     },
     "execution_count": 45,
     "metadata": {},
     "output_type": "execute_result"
    }
   ],
   "source": [
    "merge_sort(notebooks, compare_titles)"
   ]
  },
  {
   "cell_type": "code",
   "execution_count": null,
   "id": "6d74de77",
   "metadata": {},
   "outputs": [],
   "source": []
  }
 ],
 "metadata": {
  "kernelspec": {
   "display_name": "Python 3 (ipykernel)",
   "language": "python",
   "name": "python3"
  },
  "language_info": {
   "codemirror_mode": {
    "name": "ipython",
    "version": 3
   },
   "file_extension": ".py",
   "mimetype": "text/x-python",
   "name": "python",
   "nbconvert_exporter": "python",
   "pygments_lexer": "ipython3",
   "version": "3.9.13"
  }
 },
 "nbformat": 4,
 "nbformat_minor": 5
}
